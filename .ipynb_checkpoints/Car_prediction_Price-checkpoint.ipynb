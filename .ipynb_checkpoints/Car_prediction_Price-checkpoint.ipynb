{
 "cells": [
  {
   "cell_type": "code",
   "execution_count": 1,
   "id": "c7a3d45c-037c-4005-97d9-3b16fd06f909",
   "metadata": {},
   "outputs": [
    {
     "name": "stdout",
     "output_type": "stream",
     "text": [
      "Requirement already satisfied: pandas in c:\\users\\dell\\appdata\\local\\programs\\python\\python312\\lib\\site-packages (2.2.1)\n",
      "Requirement already satisfied: numpy<2,>=1.26.0 in c:\\users\\dell\\appdata\\local\\programs\\python\\python312\\lib\\site-packages (from pandas) (1.26.4)\n",
      "Requirement already satisfied: python-dateutil>=2.8.2 in c:\\users\\dell\\appdata\\local\\programs\\python\\python312\\lib\\site-packages (from pandas) (2.9.0.post0)\n",
      "Requirement already satisfied: pytz>=2020.1 in c:\\users\\dell\\appdata\\local\\programs\\python\\python312\\lib\\site-packages (from pandas) (2024.1)\n",
      "Requirement already satisfied: tzdata>=2022.7 in c:\\users\\dell\\appdata\\local\\programs\\python\\python312\\lib\\site-packages (from pandas) (2024.1)\n",
      "Requirement already satisfied: six>=1.5 in c:\\users\\dell\\appdata\\local\\programs\\python\\python312\\lib\\site-packages (from python-dateutil>=2.8.2->pandas) (1.16.0)\n"
     ]
    }
   ],
   "source": [
    "!pip install pandas\n",
    "\n"
   ]
  },
  {
   "cell_type": "code",
   "execution_count": 2,
   "id": "85263ba4-248f-4eae-81f8-30cfb89e1dea",
   "metadata": {},
   "outputs": [
    {
     "name": "stdout",
     "output_type": "stream",
     "text": [
      "Requirement already satisfied: matplotlib in c:\\users\\dell\\appdata\\local\\programs\\python\\python312\\lib\\site-packages (3.8.3)\n",
      "Requirement already satisfied: contourpy>=1.0.1 in c:\\users\\dell\\appdata\\local\\programs\\python\\python312\\lib\\site-packages (from matplotlib) (1.2.0)\n",
      "Requirement already satisfied: cycler>=0.10 in c:\\users\\dell\\appdata\\local\\programs\\python\\python312\\lib\\site-packages (from matplotlib) (0.12.1)\n",
      "Requirement already satisfied: fonttools>=4.22.0 in c:\\users\\dell\\appdata\\local\\programs\\python\\python312\\lib\\site-packages (from matplotlib) (4.50.0)\n",
      "Requirement already satisfied: kiwisolver>=1.3.1 in c:\\users\\dell\\appdata\\local\\programs\\python\\python312\\lib\\site-packages (from matplotlib) (1.4.5)\n",
      "Requirement already satisfied: numpy<2,>=1.21 in c:\\users\\dell\\appdata\\local\\programs\\python\\python312\\lib\\site-packages (from matplotlib) (1.26.4)\n",
      "Requirement already satisfied: packaging>=20.0 in c:\\users\\dell\\appdata\\local\\programs\\python\\python312\\lib\\site-packages (from matplotlib) (24.0)\n",
      "Requirement already satisfied: pillow>=8 in c:\\users\\dell\\appdata\\local\\programs\\python\\python312\\lib\\site-packages (from matplotlib) (10.2.0)\n",
      "Requirement already satisfied: pyparsing>=2.3.1 in c:\\users\\dell\\appdata\\local\\programs\\python\\python312\\lib\\site-packages (from matplotlib) (3.1.2)\n",
      "Requirement already satisfied: python-dateutil>=2.7 in c:\\users\\dell\\appdata\\local\\programs\\python\\python312\\lib\\site-packages (from matplotlib) (2.9.0.post0)\n",
      "Requirement already satisfied: six>=1.5 in c:\\users\\dell\\appdata\\local\\programs\\python\\python312\\lib\\site-packages (from python-dateutil>=2.7->matplotlib) (1.16.0)\n",
      "Requirement already satisfied: seaborn in c:\\users\\dell\\appdata\\local\\programs\\python\\python312\\lib\\site-packages (0.13.2)\n",
      "Requirement already satisfied: numpy!=1.24.0,>=1.20 in c:\\users\\dell\\appdata\\local\\programs\\python\\python312\\lib\\site-packages (from seaborn) (1.26.4)\n",
      "Requirement already satisfied: pandas>=1.2 in c:\\users\\dell\\appdata\\local\\programs\\python\\python312\\lib\\site-packages (from seaborn) (2.2.1)\n",
      "Requirement already satisfied: matplotlib!=3.6.1,>=3.4 in c:\\users\\dell\\appdata\\local\\programs\\python\\python312\\lib\\site-packages (from seaborn) (3.8.3)\n",
      "Requirement already satisfied: contourpy>=1.0.1 in c:\\users\\dell\\appdata\\local\\programs\\python\\python312\\lib\\site-packages (from matplotlib!=3.6.1,>=3.4->seaborn) (1.2.0)\n",
      "Requirement already satisfied: cycler>=0.10 in c:\\users\\dell\\appdata\\local\\programs\\python\\python312\\lib\\site-packages (from matplotlib!=3.6.1,>=3.4->seaborn) (0.12.1)\n",
      "Requirement already satisfied: fonttools>=4.22.0 in c:\\users\\dell\\appdata\\local\\programs\\python\\python312\\lib\\site-packages (from matplotlib!=3.6.1,>=3.4->seaborn) (4.50.0)\n",
      "Requirement already satisfied: kiwisolver>=1.3.1 in c:\\users\\dell\\appdata\\local\\programs\\python\\python312\\lib\\site-packages (from matplotlib!=3.6.1,>=3.4->seaborn) (1.4.5)\n",
      "Requirement already satisfied: packaging>=20.0 in c:\\users\\dell\\appdata\\local\\programs\\python\\python312\\lib\\site-packages (from matplotlib!=3.6.1,>=3.4->seaborn) (24.0)\n",
      "Requirement already satisfied: pillow>=8 in c:\\users\\dell\\appdata\\local\\programs\\python\\python312\\lib\\site-packages (from matplotlib!=3.6.1,>=3.4->seaborn) (10.2.0)\n",
      "Requirement already satisfied: pyparsing>=2.3.1 in c:\\users\\dell\\appdata\\local\\programs\\python\\python312\\lib\\site-packages (from matplotlib!=3.6.1,>=3.4->seaborn) (3.1.2)\n",
      "Requirement already satisfied: python-dateutil>=2.7 in c:\\users\\dell\\appdata\\local\\programs\\python\\python312\\lib\\site-packages (from matplotlib!=3.6.1,>=3.4->seaborn) (2.9.0.post0)\n",
      "Requirement already satisfied: pytz>=2020.1 in c:\\users\\dell\\appdata\\local\\programs\\python\\python312\\lib\\site-packages (from pandas>=1.2->seaborn) (2024.1)\n",
      "Requirement already satisfied: tzdata>=2022.7 in c:\\users\\dell\\appdata\\local\\programs\\python\\python312\\lib\\site-packages (from pandas>=1.2->seaborn) (2024.1)\n",
      "Requirement already satisfied: six>=1.5 in c:\\users\\dell\\appdata\\local\\programs\\python\\python312\\lib\\site-packages (from python-dateutil>=2.7->matplotlib!=3.6.1,>=3.4->seaborn) (1.16.0)\n",
      "Collecting sklearn\n",
      "  Using cached sklearn-0.0.post12.tar.gz (2.6 kB)\n",
      "  Installing build dependencies: started\n",
      "  Installing build dependencies: finished with status 'done'\n",
      "  Getting requirements to build wheel: started\n",
      "  Getting requirements to build wheel: finished with status 'error'\n"
     ]
    },
    {
     "name": "stderr",
     "output_type": "stream",
     "text": [
      "  error: subprocess-exited-with-error\n",
      "  \n",
      "  Getting requirements to build wheel did not run successfully.\n",
      "  exit code: 1\n",
      "  \n",
      "  [15 lines of output]\n",
      "  The 'sklearn' PyPI package is deprecated, use 'scikit-learn'\n",
      "  rather than 'sklearn' for pip commands.\n",
      "  \n",
      "  Here is how to fix this error in the main use cases:\n",
      "  - use 'pip install scikit-learn' rather than 'pip install sklearn'\n",
      "  - replace 'sklearn' by 'scikit-learn' in your pip requirements files\n",
      "    (requirements.txt, setup.py, setup.cfg, Pipfile, etc ...)\n",
      "  - if the 'sklearn' package is used by one of your dependencies,\n",
      "    it would be great if you take some time to track which package uses\n",
      "    'sklearn' instead of 'scikit-learn' and report it to their issue tracker\n",
      "  - as a last resort, set the environment variable\n",
      "    SKLEARN_ALLOW_DEPRECATED_SKLEARN_PACKAGE_INSTALL=True to avoid this error\n",
      "  \n",
      "  More information is available at\n",
      "  https://github.com/scikit-learn/sklearn-pypi-package\n",
      "  [end of output]\n",
      "  \n",
      "  note: This error originates from a subprocess, and is likely not a problem with pip.\n",
      "error: subprocess-exited-with-error\n",
      "\n",
      "Getting requirements to build wheel did not run successfully.\n",
      "exit code: 1\n",
      "\n",
      "See above for output.\n",
      "\n",
      "note: This error originates from a subprocess, and is likely not a problem with pip.\n"
     ]
    }
   ],
   "source": [
    "!pip install matplotlib\n",
    "!pip install seaborn\n",
    "pip install scikit-learn\n"
   ]
  },
  {
   "cell_type": "code",
   "execution_count": 3,
   "id": "b70fc782-2aa6-42c8-93f0-b98761850166",
   "metadata": {},
   "outputs": [
    {
     "ename": "ModuleNotFoundError",
     "evalue": "No module named 'sklearn'",
     "output_type": "error",
     "traceback": [
      "\u001b[1;31m---------------------------------------------------------------------------\u001b[0m",
      "\u001b[1;31mModuleNotFoundError\u001b[0m                       Traceback (most recent call last)",
      "Cell \u001b[1;32mIn[3], line 6\u001b[0m\n\u001b[0;32m      4\u001b[0m \u001b[38;5;28;01mimport\u001b[39;00m \u001b[38;5;21;01mseaborn\u001b[39;00m \u001b[38;5;28;01mas\u001b[39;00m \u001b[38;5;21;01msns\u001b[39;00m\n\u001b[0;32m      5\u001b[0m \u001b[38;5;28;01mimport\u001b[39;00m \u001b[38;5;21;01mwarnings\u001b[39;00m\n\u001b[1;32m----> 6\u001b[0m \u001b[38;5;28;01mfrom\u001b[39;00m \u001b[38;5;21;01msklearn\u001b[39;00m\u001b[38;5;21;01m.\u001b[39;00m\u001b[38;5;21;01mpreprocessing\u001b[39;00m \u001b[38;5;28;01mimport\u001b[39;00m LabelEncoder\n\u001b[0;32m      8\u001b[0m warnings\u001b[38;5;241m.\u001b[39mfilterwarnings(\u001b[38;5;124m'\u001b[39m\u001b[38;5;124mignore\u001b[39m\u001b[38;5;124m'\u001b[39m)\n",
      "\u001b[1;31mModuleNotFoundError\u001b[0m: No module named 'sklearn'"
     ]
    }
   ],
   "source": [
    "import pandas as pd\n",
    "import numpy as np\n",
    "import matplotlib.pyplot as plt\n",
    "import seaborn as sns\n",
    "import warnings\n",
    "from sklearn.preprocessing import LabelEncoder\n",
    "\n",
    "warnings.filterwarnings('ignore')"
   ]
  },
  {
   "cell_type": "code",
   "execution_count": null,
   "id": "b6c91d78-abf4-419d-863b-d9b75ab1b2b6",
   "metadata": {},
   "outputs": [],
   "source": [
    "# Using a raw string to avoid needing to escape backslashes\n",
    "file_path = r\"C:\\Users\\DELL\\Desktop\\Projetct_prediction_cars\\car_price_prediction.csv\"\n",
    "\n",
    "try:\n",
    "  # Attempt to read the CSV file\n",
    "  data = pd.read_csv(file_path)\n",
    "except FileNotFoundError:\n",
    "  # Handle the case where the file is not found\n",
    "  print(\"Error: File not found at\", file_path)\n",
    "except pd.errors.ParserError:\n",
    "  # Handle potential parsing errors if the file format is unexpected\n",
    "  print(\"Error: Could not parse the CSV file at\", file_path)\n",
    "else:\n",
    "  # If reading is successful, you can proceed with using the DataFrame 'df'\n",
    "  print(\"CSV file read successfully!\")\n",
    "  # Your data analysis or processing using 'df' would go here"
   ]
  },
  {
   "cell_type": "markdown",
   "id": "76b3282d-a473-4c32-a521-c7ab95030f85",
   "metadata": {},
   "source": [
    "# 1- Explore Data "
   ]
  },
  {
   "cell_type": "code",
   "execution_count": null,
   "id": "0009820f-f8e3-4bad-bce9-74ef502899c7",
   "metadata": {},
   "outputs": [],
   "source": [
    "data.head()"
   ]
  },
  {
   "cell_type": "code",
   "execution_count": null,
   "id": "36e73ede-d62f-43bf-95a0-a8474dc393ff",
   "metadata": {},
   "outputs": [],
   "source": [
    "data.shape"
   ]
  },
  {
   "cell_type": "code",
   "execution_count": null,
   "id": "d299a97b-5e5c-4862-abc2-b050f6ef33f8",
   "metadata": {},
   "outputs": [],
   "source": [
    "data.describe()"
   ]
  },
  {
   "cell_type": "code",
   "execution_count": null,
   "id": "0f9c65a6-9a54-4332-98b6-492ae9246da0",
   "metadata": {},
   "outputs": [],
   "source": [
    "data.info()"
   ]
  },
  {
   "cell_type": "code",
   "execution_count": null,
   "id": "a2a4342e-5a0e-4611-9fbe-c4952e7e25a1",
   "metadata": {},
   "outputs": [],
   "source": [
    "data.duplicated().sum()\n"
   ]
  },
  {
   "cell_type": "code",
   "execution_count": null,
   "id": "5dd7d850-7d3d-4beb-a47a-46031722d478",
   "metadata": {},
   "outputs": [],
   "source": [
    "data.drop_duplicates(inplace=True)"
   ]
  },
  {
   "cell_type": "code",
   "execution_count": null,
   "id": "8759be2f-26a6-4150-bb72-eb383a5e3ea8",
   "metadata": {},
   "outputs": [],
   "source": [
    "data.isnull().sum()"
   ]
  },
  {
   "cell_type": "code",
   "execution_count": null,
   "id": "01179de7-f393-492d-92e0-33c61db4df13",
   "metadata": {},
   "outputs": [],
   "source": [
    "data.shape"
   ]
  },
  {
   "cell_type": "markdown",
   "id": "ec5c16a4-c99f-48bf-891c-ccb351092af8",
   "metadata": {},
   "source": [
    "# 2- Analysis\n"
   ]
  },
  {
   "cell_type": "code",
   "execution_count": null,
   "id": "da7f69e6-e64c-4d55-ab0c-0f75d67479dc",
   "metadata": {},
   "outputs": [],
   "source": [
    "for col in data.columns:\n",
    "  print(col,\":\",data[col].nunique())"
   ]
  },
  {
   "cell_type": "code",
   "execution_count": null,
   "id": "50b35ec1-f428-4c26-956b-85f7e7195c5c",
   "metadata": {},
   "outputs": [],
   "source": [
    "data.hist(bins=15, figsize=(15, 10))\n",
    "plt.show()\n"
   ]
  },
  {
   "cell_type": "code",
   "execution_count": null,
   "id": "e85b29e3-24fc-4e4b-9ade-e928c1f41d4a",
   "metadata": {},
   "outputs": [],
   "source": [
    "top10Cars = data['Manufacturer'].value_counts().sort_values(ascending=False)[:10]\n",
    "top10Cars"
   ]
  },
  {
   "cell_type": "code",
   "execution_count": null,
   "id": "a53b6c06-dc36-4382-84ad-9fd13a4c6009",
   "metadata": {},
   "outputs": [],
   "source": [
    "top10Cars.plot( figsize=(10,4))\n",
    "plt.show()"
   ]
  },
  {
   "cell_type": "code",
   "execution_count": null,
   "id": "f5e6c41b-6b1d-424a-a9b3-b2e64e7d768f",
   "metadata": {},
   "outputs": [],
   "source": [
    "\n"
   ]
  },
  {
   "cell_type": "code",
   "execution_count": null,
   "id": "aae060a3-f8e4-47b6-8cb3-b85cee98fea9",
   "metadata": {},
   "outputs": [],
   "source": [
    "data_objects = data.select_dtypes(include='object')"
   ]
  },
  {
   "cell_type": "code",
   "execution_count": null,
   "id": "a3fb5814-e8c6-486c-8018-b510978f43bc",
   "metadata": {},
   "outputs": [],
   "source": [
    "for object in data_objects:\n",
    "   plt.figure(figsize=(15,5))\n",
    "   top10=data[object].value_counts()[:10]\n",
    "   top10.plot(kind='bar')\n",
    "   plt.title(\"top 10\"+\" \"+object)\n",
    "   plt.show()\n"
   ]
  },
  {
   "cell_type": "markdown",
   "id": "b7380f39-d7a7-4bf2-ba5b-0ab3a59970a2",
   "metadata": {},
   "source": [
    "# 3- Data Processing"
   ]
  },
  {
   "cell_type": "code",
   "execution_count": null,
   "id": "090b2408-a305-4e68-a0f4-655dfde47abf",
   "metadata": {},
   "outputs": [],
   "source": [
    "data.head()"
   ]
  },
  {
   "cell_type": "code",
   "execution_count": null,
   "id": "0f768a23-555e-41fe-a64a-959108030c33",
   "metadata": {},
   "outputs": [],
   "source": [
    "data=data.drop(['ID','Doors'],axis=1)"
   ]
  },
  {
   "cell_type": "code",
   "execution_count": null,
   "id": "750ff84f-3d37-450f-9fab-3d66032fd05f",
   "metadata": {},
   "outputs": [],
   "source": [
    "data.head()"
   ]
  },
  {
   "cell_type": "code",
   "execution_count": null,
   "id": "b670bc10-5fb7-48c8-8ba0-16509487b264",
   "metadata": {},
   "outputs": [],
   "source": [
    "import datetime\n",
    "datet=datetime.datetime.now()"
   ]
  },
  {
   "cell_type": "code",
   "execution_count": null,
   "id": "49f9eb72-b266-44df-a12a-47bec03c41c0",
   "metadata": {},
   "outputs": [],
   "source": [
    "data['Age']=datet.year-data['Prod. year']"
   ]
  },
  {
   "cell_type": "code",
   "execution_count": null,
   "id": "fe61ef2f-8522-4dff-97f3-10fdf6cf5d82",
   "metadata": {},
   "outputs": [],
   "source": [
    "data.head()"
   ]
  },
  {
   "cell_type": "code",
   "execution_count": null,
   "id": "1489e253-e860-460d-a7a7-4c668e6b7ca7",
   "metadata": {},
   "outputs": [],
   "source": [
    "data=data.drop(['Prod. year'],axis=1)"
   ]
  },
  {
   "cell_type": "code",
   "execution_count": null,
   "id": "d54c72a1-aa7b-4cdc-93c7-d1a316a99225",
   "metadata": {},
   "outputs": [],
   "source": [
    "data.head()"
   ]
  },
  {
   "cell_type": "code",
   "execution_count": null,
   "id": "c6eebbec-5d47-4161-a2f5-1c3c1379f47e",
   "metadata": {},
   "outputs": [],
   "source": [
    "data.Levy.replace({'-':'0'},inplace=True)"
   ]
  },
  {
   "cell_type": "code",
   "execution_count": null,
   "id": "1ffe9860-2807-4bbb-81f6-11d0cff067a1",
   "metadata": {},
   "outputs": [],
   "source": [
    "data.head()"
   ]
  },
  {
   "cell_type": "code",
   "execution_count": null,
   "id": "afa13f84-b2f4-4656-a35a-7aa6ce372d88",
   "metadata": {},
   "outputs": [],
   "source": [
    "data['Levy']=data['Levy'].astype(int)"
   ]
  },
  {
   "cell_type": "code",
   "execution_count": null,
   "id": "321cd05c-433e-407e-8a98-b3870b616646",
   "metadata": {},
   "outputs": [],
   "source": [
    "data['Mileage']=data['Mileage'].str.replace('km','')"
   ]
  },
  {
   "cell_type": "code",
   "execution_count": null,
   "id": "54c7a6d8-f034-4821-91f3-276cb5e16902",
   "metadata": {},
   "outputs": [],
   "source": [
    "data.head()"
   ]
  },
  {
   "cell_type": "code",
   "execution_count": null,
   "id": "df96b3be-0e01-4978-971c-df6f2d07fd9c",
   "metadata": {},
   "outputs": [],
   "source": [
    "data['Engine volume'].unique()"
   ]
  },
  {
   "cell_type": "code",
   "execution_count": null,
   "id": "078b6075-a65d-48a9-8265-e60e183ebe17",
   "metadata": {},
   "outputs": [],
   "source": [
    "data['Engine volume']=data['Engine volume'].str.replace('Turbo','')"
   ]
  },
  {
   "cell_type": "code",
   "execution_count": null,
   "id": "c68e7534-677c-496f-9764-8bf859611ca3",
   "metadata": {},
   "outputs": [],
   "source": [
    "data['Engine volume']=data['Engine volume'].astype(float)"
   ]
  },
  {
   "cell_type": "code",
   "execution_count": null,
   "id": "5b44a4a3-d2ec-4c75-9f1e-7b0c5a0890bd",
   "metadata": {},
   "outputs": [],
   "source": [
    "data.info()"
   ]
  },
  {
   "cell_type": "markdown",
   "id": "cca20d4b-1dd0-4a6e-9199-25f8ad8cd495",
   "metadata": {},
   "source": [
    "# 4- Detect Outliers "
   ]
  },
  {
   "cell_type": "code",
   "execution_count": null,
   "id": "9fd422ed-21c1-4f06-b865-d7ddc3e05cae",
   "metadata": {},
   "outputs": [],
   "source": [
    "data['Age'].describe() "
   ]
  },
  {
   "cell_type": "code",
   "execution_count": null,
   "id": "3b2bf042-5987-467f-8ee3-54ed593f8e72",
   "metadata": {},
   "outputs": [],
   "source": [
    "data['Price'].describe()"
   ]
  },
  {
   "cell_type": "code",
   "execution_count": null,
   "id": "79c4d291-219e-4e3b-b0fd-7e14f56bcf78",
   "metadata": {},
   "outputs": [],
   "source": [
    "data_numeric = data.select_dtypes(exclude='object')\n",
    "for col in data_numeric:\n",
    "    q1=data[col].quantile(0.25)\n",
    "    q3=data[col].quantile(0.75)\n",
    "    iqr=q3-q1\n",
    "    low=q1-1.5*iqr\n",
    "    high=q3+1.5*iqr\n",
    "    outliers=((data_numeric[col]>high)|(data_numeric[col]<low)).sum()\n",
    "    if outliers> 0:\n",
    "        data=data.loc[(data[col]>=low) & (data[col]<=high)]\n",
    "        \n",
    "    "
   ]
  },
  {
   "cell_type": "code",
   "execution_count": null,
   "id": "26b91379-0d35-47b6-9aa3-730f06c035a7",
   "metadata": {},
   "outputs": [],
   "source": [
    "data['Age'].describe() "
   ]
  },
  {
   "cell_type": "markdown",
   "id": "e4efe454-e4c9-4dfc-9986-de23b07b462d",
   "metadata": {},
   "source": [
    "# 5- Trnsform Data \n"
   ]
  },
  {
   "cell_type": "code",
   "execution_count": null,
   "id": "03ae84f9-2fb4-4b86-9ec4-851bc2a06902",
   "metadata": {},
   "outputs": [],
   "source": [
    "la=LabelEncoder"
   ]
  },
  {
   "cell_type": "code",
   "execution_count": null,
   "id": "0c03a1cf-61b9-457d-b1e4-7b59e56427db",
   "metadata": {},
   "outputs": [],
   "source": [
    "data_object=data.select_dtype(include='object')\n",
    "data_numeric=data.select_dtype(exclude='object')"
   ]
  },
  {
   "cell_type": "code",
   "execution_count": null,
   "id": "7083c4af-9b11-445e-8345-10a0bb7509c4",
   "metadata": {},
   "outputs": [],
   "source": [
    "for i in ranfe(0, data_object.shape[1]):\n",
    "    data_object.iloc[:,i]=la.fit_transform(data_object.iloc[:,i])\n"
   ]
  },
  {
   "cell_type": "code",
   "execution_count": null,
   "id": "a3e19c9f-beb2-4961-9a16-3596dfca25b6",
   "metadata": {},
   "outputs": [],
   "source": [
    "data=pd.concat([data_object,data_numeric],axis=1)"
   ]
  },
  {
   "cell_type": "code",
   "execution_count": null,
   "id": "fce98138-71c3-4e0b-896f-b067ff83aeb5",
   "metadata": {},
   "outputs": [],
   "source": [
    "data.info()"
   ]
  },
  {
   "cell_type": "code",
   "execution_count": null,
   "id": "63b73122-6e3b-4fbe-b696-b9065504eb43",
   "metadata": {},
   "outputs": [],
   "source": []
  }
 ],
 "metadata": {
  "kernelspec": {
   "display_name": "Python 3 (ipykernel)",
   "language": "python",
   "name": "python3"
  },
  "language_info": {
   "codemirror_mode": {
    "name": "ipython",
    "version": 3
   },
   "file_extension": ".py",
   "mimetype": "text/x-python",
   "name": "python",
   "nbconvert_exporter": "python",
   "pygments_lexer": "ipython3",
   "version": "3.12.2"
  }
 },
 "nbformat": 4,
 "nbformat_minor": 5
}
