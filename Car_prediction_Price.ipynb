{
 "cells": [
  {
   "cell_type": "code",
   "execution_count": 1,
   "id": "c7a3d45c-037c-4005-97d9-3b16fd06f909",
   "metadata": {},
   "outputs": [
    {
     "name": "stdout",
     "output_type": "stream",
     "text": [
      "Requirement already satisfied: pandas in c:\\users\\dell\\appdata\\local\\programs\\python\\python312\\lib\\site-packages (2.2.1)\n",
      "Requirement already satisfied: numpy<2,>=1.26.0 in c:\\users\\dell\\appdata\\local\\programs\\python\\python312\\lib\\site-packages (from pandas) (1.26.4)\n",
      "Requirement already satisfied: python-dateutil>=2.8.2 in c:\\users\\dell\\appdata\\local\\programs\\python\\python312\\lib\\site-packages (from pandas) (2.9.0.post0)\n",
      "Requirement already satisfied: pytz>=2020.1 in c:\\users\\dell\\appdata\\local\\programs\\python\\python312\\lib\\site-packages (from pandas) (2024.1)\n",
      "Requirement already satisfied: tzdata>=2022.7 in c:\\users\\dell\\appdata\\local\\programs\\python\\python312\\lib\\site-packages (from pandas) (2024.1)\n",
      "Requirement already satisfied: six>=1.5 in c:\\users\\dell\\appdata\\local\\programs\\python\\python312\\lib\\site-packages (from python-dateutil>=2.8.2->pandas) (1.16.0)\n"
     ]
    }
   ],
   "source": [
    "!pip install pandas\n",
    "\n",
    "\n"
   ]
  },
  {
   "cell_type": "code",
   "execution_count": 2,
   "id": "85263ba4-248f-4eae-81f8-30cfb89e1dea",
   "metadata": {},
   "outputs": [
    {
     "name": "stdout",
     "output_type": "stream",
     "text": [
      "Requirement already satisfied: matplotlib in c:\\users\\dell\\appdata\\local\\programs\\python\\python312\\lib\\site-packages (3.8.3)\n",
      "Requirement already satisfied: contourpy>=1.0.1 in c:\\users\\dell\\appdata\\local\\programs\\python\\python312\\lib\\site-packages (from matplotlib) (1.2.0)\n",
      "Requirement already satisfied: cycler>=0.10 in c:\\users\\dell\\appdata\\local\\programs\\python\\python312\\lib\\site-packages (from matplotlib) (0.12.1)\n",
      "Requirement already satisfied: fonttools>=4.22.0 in c:\\users\\dell\\appdata\\local\\programs\\python\\python312\\lib\\site-packages (from matplotlib) (4.50.0)\n",
      "Requirement already satisfied: kiwisolver>=1.3.1 in c:\\users\\dell\\appdata\\local\\programs\\python\\python312\\lib\\site-packages (from matplotlib) (1.4.5)\n",
      "Requirement already satisfied: numpy<2,>=1.21 in c:\\users\\dell\\appdata\\local\\programs\\python\\python312\\lib\\site-packages (from matplotlib) (1.26.4)\n",
      "Requirement already satisfied: packaging>=20.0 in c:\\users\\dell\\appdata\\local\\programs\\python\\python312\\lib\\site-packages (from matplotlib) (23.2)\n",
      "Requirement already satisfied: pillow>=8 in c:\\users\\dell\\appdata\\local\\programs\\python\\python312\\lib\\site-packages (from matplotlib) (10.2.0)\n",
      "Requirement already satisfied: pyparsing>=2.3.1 in c:\\users\\dell\\appdata\\local\\programs\\python\\python312\\lib\\site-packages (from matplotlib) (3.1.2)\n",
      "Requirement already satisfied: python-dateutil>=2.7 in c:\\users\\dell\\appdata\\local\\programs\\python\\python312\\lib\\site-packages (from matplotlib) (2.9.0.post0)\n",
      "Requirement already satisfied: six>=1.5 in c:\\users\\dell\\appdata\\local\\programs\\python\\python312\\lib\\site-packages (from python-dateutil>=2.7->matplotlib) (1.16.0)\n",
      "Requirement already satisfied: seaborn in c:\\users\\dell\\appdata\\local\\programs\\python\\python312\\lib\\site-packages (0.13.2)\n",
      "Requirement already satisfied: numpy!=1.24.0,>=1.20 in c:\\users\\dell\\appdata\\local\\programs\\python\\python312\\lib\\site-packages (from seaborn) (1.26.4)\n",
      "Requirement already satisfied: pandas>=1.2 in c:\\users\\dell\\appdata\\local\\programs\\python\\python312\\lib\\site-packages (from seaborn) (2.2.1)\n",
      "Requirement already satisfied: matplotlib!=3.6.1,>=3.4 in c:\\users\\dell\\appdata\\local\\programs\\python\\python312\\lib\\site-packages (from seaborn) (3.8.3)\n",
      "Requirement already satisfied: contourpy>=1.0.1 in c:\\users\\dell\\appdata\\local\\programs\\python\\python312\\lib\\site-packages (from matplotlib!=3.6.1,>=3.4->seaborn) (1.2.0)\n",
      "Requirement already satisfied: cycler>=0.10 in c:\\users\\dell\\appdata\\local\\programs\\python\\python312\\lib\\site-packages (from matplotlib!=3.6.1,>=3.4->seaborn) (0.12.1)\n",
      "Requirement already satisfied: fonttools>=4.22.0 in c:\\users\\dell\\appdata\\local\\programs\\python\\python312\\lib\\site-packages (from matplotlib!=3.6.1,>=3.4->seaborn) (4.50.0)\n",
      "Requirement already satisfied: kiwisolver>=1.3.1 in c:\\users\\dell\\appdata\\local\\programs\\python\\python312\\lib\\site-packages (from matplotlib!=3.6.1,>=3.4->seaborn) (1.4.5)\n",
      "Requirement already satisfied: packaging>=20.0 in c:\\users\\dell\\appdata\\local\\programs\\python\\python312\\lib\\site-packages (from matplotlib!=3.6.1,>=3.4->seaborn) (23.2)\n",
      "Requirement already satisfied: pillow>=8 in c:\\users\\dell\\appdata\\local\\programs\\python\\python312\\lib\\site-packages (from matplotlib!=3.6.1,>=3.4->seaborn) (10.2.0)\n",
      "Requirement already satisfied: pyparsing>=2.3.1 in c:\\users\\dell\\appdata\\local\\programs\\python\\python312\\lib\\site-packages (from matplotlib!=3.6.1,>=3.4->seaborn) (3.1.2)\n",
      "Requirement already satisfied: python-dateutil>=2.7 in c:\\users\\dell\\appdata\\local\\programs\\python\\python312\\lib\\site-packages (from matplotlib!=3.6.1,>=3.4->seaborn) (2.9.0.post0)\n",
      "Requirement already satisfied: pytz>=2020.1 in c:\\users\\dell\\appdata\\local\\programs\\python\\python312\\lib\\site-packages (from pandas>=1.2->seaborn) (2024.1)\n",
      "Requirement already satisfied: tzdata>=2022.7 in c:\\users\\dell\\appdata\\local\\programs\\python\\python312\\lib\\site-packages (from pandas>=1.2->seaborn) (2024.1)\n",
      "Requirement already satisfied: six>=1.5 in c:\\users\\dell\\appdata\\local\\programs\\python\\python312\\lib\\site-packages (from python-dateutil>=2.7->matplotlib!=3.6.1,>=3.4->seaborn) (1.16.0)\n"
     ]
    }
   ],
   "source": [
    "!pip install matplotlib\n",
    "!pip install seaborn\n",
    "\n"
   ]
  },
  {
   "cell_type": "code",
   "execution_count": 3,
   "id": "b70fc782-2aa6-42c8-93f0-b98761850166",
   "metadata": {},
   "outputs": [],
   "source": [
    "import pandas as pd\n",
    "import numpy as np\n",
    "import matplotlib.pyplot as plt\n",
    "import seaborn as sns\n",
    "import warnings\n",
    "\n",
    "\n",
    "warnings.filterwarnings('ignore')"
   ]
  },
  {
   "cell_type": "code",
   "execution_count": 4,
   "id": "b6c91d78-abf4-419d-863b-d9b75ab1b2b6",
   "metadata": {},
   "outputs": [
    {
     "name": "stdout",
     "output_type": "stream",
     "text": [
      "CSV file read successfully!\n"
     ]
    }
   ],
   "source": [
    "# Using a raw string to avoid needing to escape backslashes\n",
    "file_path = r\"C:\\Users\\DELL\\Desktop\\Projetct_prediction_cars\\car_price_prediction.csv\"\n",
    "\n",
    "try:\n",
    "  # Attempt to read the CSV file\n",
    "  data = pd.read_csv(file_path)\n",
    "except FileNotFoundError:\n",
    "  # Handle the case where the file is not found\n",
    "  print(\"Error: File not found at\", file_path)\n",
    "except pd.errors.ParserError:\n",
    "  # Handle potential parsing errors if the file format is unexpected\n",
    "  print(\"Error: Could not parse the CSV file at\", file_path)\n",
    "else:\n",
    "  # If reading is successful, you can proceed with using the DataFrame 'df'\n",
    "  print(\"CSV file read successfully!\")\n",
    "  # Your data analysis or processing using 'df' would go here"
   ]
  },
  {
   "cell_type": "markdown",
   "id": "76b3282d-a473-4c32-a521-c7ab95030f85",
   "metadata": {},
   "source": [
    "# 1- Explore Data "
   ]
  },
  {
   "cell_type": "code",
   "execution_count": 5,
   "id": "0009820f-f8e3-4bad-bce9-74ef502899c7",
   "metadata": {},
   "outputs": [
    {
     "data": {
      "text/html": [
       "<div>\n",
       "<style scoped>\n",
       "    .dataframe tbody tr th:only-of-type {\n",
       "        vertical-align: middle;\n",
       "    }\n",
       "\n",
       "    .dataframe tbody tr th {\n",
       "        vertical-align: top;\n",
       "    }\n",
       "\n",
       "    .dataframe thead th {\n",
       "        text-align: right;\n",
       "    }\n",
       "</style>\n",
       "<table border=\"1\" class=\"dataframe\">\n",
       "  <thead>\n",
       "    <tr style=\"text-align: right;\">\n",
       "      <th></th>\n",
       "      <th>ID</th>\n",
       "      <th>Price</th>\n",
       "      <th>Levy</th>\n",
       "      <th>Manufacturer</th>\n",
       "      <th>Model</th>\n",
       "      <th>Prod. year</th>\n",
       "      <th>Category</th>\n",
       "      <th>Leather interior</th>\n",
       "      <th>Fuel type</th>\n",
       "      <th>Engine volume</th>\n",
       "      <th>Mileage</th>\n",
       "      <th>Cylinders</th>\n",
       "      <th>Gear box type</th>\n",
       "      <th>Drive wheels</th>\n",
       "      <th>Doors</th>\n",
       "      <th>Wheel</th>\n",
       "      <th>Color</th>\n",
       "      <th>Airbags</th>\n",
       "    </tr>\n",
       "  </thead>\n",
       "  <tbody>\n",
       "    <tr>\n",
       "      <th>0</th>\n",
       "      <td>45654403</td>\n",
       "      <td>13328</td>\n",
       "      <td>1399</td>\n",
       "      <td>LEXUS</td>\n",
       "      <td>RX 450</td>\n",
       "      <td>2010</td>\n",
       "      <td>Jeep</td>\n",
       "      <td>Yes</td>\n",
       "      <td>Hybrid</td>\n",
       "      <td>3.5</td>\n",
       "      <td>186005 km</td>\n",
       "      <td>6.0</td>\n",
       "      <td>Automatic</td>\n",
       "      <td>4x4</td>\n",
       "      <td>04-May</td>\n",
       "      <td>Left wheel</td>\n",
       "      <td>Silver</td>\n",
       "      <td>12</td>\n",
       "    </tr>\n",
       "    <tr>\n",
       "      <th>1</th>\n",
       "      <td>44731507</td>\n",
       "      <td>16621</td>\n",
       "      <td>1018</td>\n",
       "      <td>CHEVROLET</td>\n",
       "      <td>Equinox</td>\n",
       "      <td>2011</td>\n",
       "      <td>Jeep</td>\n",
       "      <td>No</td>\n",
       "      <td>Petrol</td>\n",
       "      <td>3</td>\n",
       "      <td>192000 km</td>\n",
       "      <td>6.0</td>\n",
       "      <td>Tiptronic</td>\n",
       "      <td>4x4</td>\n",
       "      <td>04-May</td>\n",
       "      <td>Left wheel</td>\n",
       "      <td>Black</td>\n",
       "      <td>8</td>\n",
       "    </tr>\n",
       "    <tr>\n",
       "      <th>2</th>\n",
       "      <td>45774419</td>\n",
       "      <td>8467</td>\n",
       "      <td>-</td>\n",
       "      <td>HONDA</td>\n",
       "      <td>FIT</td>\n",
       "      <td>2006</td>\n",
       "      <td>Hatchback</td>\n",
       "      <td>No</td>\n",
       "      <td>Petrol</td>\n",
       "      <td>1.3</td>\n",
       "      <td>200000 km</td>\n",
       "      <td>4.0</td>\n",
       "      <td>Variator</td>\n",
       "      <td>Front</td>\n",
       "      <td>04-May</td>\n",
       "      <td>Right-hand drive</td>\n",
       "      <td>Black</td>\n",
       "      <td>2</td>\n",
       "    </tr>\n",
       "    <tr>\n",
       "      <th>3</th>\n",
       "      <td>45769185</td>\n",
       "      <td>3607</td>\n",
       "      <td>862</td>\n",
       "      <td>FORD</td>\n",
       "      <td>Escape</td>\n",
       "      <td>2011</td>\n",
       "      <td>Jeep</td>\n",
       "      <td>Yes</td>\n",
       "      <td>Hybrid</td>\n",
       "      <td>2.5</td>\n",
       "      <td>168966 km</td>\n",
       "      <td>4.0</td>\n",
       "      <td>Automatic</td>\n",
       "      <td>4x4</td>\n",
       "      <td>04-May</td>\n",
       "      <td>Left wheel</td>\n",
       "      <td>White</td>\n",
       "      <td>0</td>\n",
       "    </tr>\n",
       "    <tr>\n",
       "      <th>4</th>\n",
       "      <td>45809263</td>\n",
       "      <td>11726</td>\n",
       "      <td>446</td>\n",
       "      <td>HONDA</td>\n",
       "      <td>FIT</td>\n",
       "      <td>2014</td>\n",
       "      <td>Hatchback</td>\n",
       "      <td>Yes</td>\n",
       "      <td>Petrol</td>\n",
       "      <td>1.3</td>\n",
       "      <td>91901 km</td>\n",
       "      <td>4.0</td>\n",
       "      <td>Automatic</td>\n",
       "      <td>Front</td>\n",
       "      <td>04-May</td>\n",
       "      <td>Left wheel</td>\n",
       "      <td>Silver</td>\n",
       "      <td>4</td>\n",
       "    </tr>\n",
       "  </tbody>\n",
       "</table>\n",
       "</div>"
      ],
      "text/plain": [
       "         ID  Price  Levy Manufacturer    Model  Prod. year   Category  \\\n",
       "0  45654403  13328  1399        LEXUS   RX 450        2010       Jeep   \n",
       "1  44731507  16621  1018    CHEVROLET  Equinox        2011       Jeep   \n",
       "2  45774419   8467     -        HONDA      FIT        2006  Hatchback   \n",
       "3  45769185   3607   862         FORD   Escape        2011       Jeep   \n",
       "4  45809263  11726   446        HONDA      FIT        2014  Hatchback   \n",
       "\n",
       "  Leather interior Fuel type Engine volume    Mileage  Cylinders  \\\n",
       "0              Yes    Hybrid           3.5  186005 km        6.0   \n",
       "1               No    Petrol             3  192000 km        6.0   \n",
       "2               No    Petrol           1.3  200000 km        4.0   \n",
       "3              Yes    Hybrid           2.5  168966 km        4.0   \n",
       "4              Yes    Petrol           1.3   91901 km        4.0   \n",
       "\n",
       "  Gear box type Drive wheels   Doors             Wheel   Color  Airbags  \n",
       "0     Automatic          4x4  04-May        Left wheel  Silver       12  \n",
       "1     Tiptronic          4x4  04-May        Left wheel   Black        8  \n",
       "2      Variator        Front  04-May  Right-hand drive   Black        2  \n",
       "3     Automatic          4x4  04-May        Left wheel   White        0  \n",
       "4     Automatic        Front  04-May        Left wheel  Silver        4  "
      ]
     },
     "execution_count": 5,
     "metadata": {},
     "output_type": "execute_result"
    }
   ],
   "source": [
    "data.head()"
   ]
  },
  {
   "cell_type": "code",
   "execution_count": 6,
   "id": "36e73ede-d62f-43bf-95a0-a8474dc393ff",
   "metadata": {},
   "outputs": [
    {
     "data": {
      "text/plain": [
       "(19237, 18)"
      ]
     },
     "execution_count": 6,
     "metadata": {},
     "output_type": "execute_result"
    }
   ],
   "source": [
    "data.shape"
   ]
  },
  {
   "cell_type": "code",
   "execution_count": 7,
   "id": "d299a97b-5e5c-4862-abc2-b050f6ef33f8",
   "metadata": {},
   "outputs": [
    {
     "data": {
      "text/html": [
       "<div>\n",
       "<style scoped>\n",
       "    .dataframe tbody tr th:only-of-type {\n",
       "        vertical-align: middle;\n",
       "    }\n",
       "\n",
       "    .dataframe tbody tr th {\n",
       "        vertical-align: top;\n",
       "    }\n",
       "\n",
       "    .dataframe thead th {\n",
       "        text-align: right;\n",
       "    }\n",
       "</style>\n",
       "<table border=\"1\" class=\"dataframe\">\n",
       "  <thead>\n",
       "    <tr style=\"text-align: right;\">\n",
       "      <th></th>\n",
       "      <th>ID</th>\n",
       "      <th>Price</th>\n",
       "      <th>Prod. year</th>\n",
       "      <th>Cylinders</th>\n",
       "      <th>Airbags</th>\n",
       "    </tr>\n",
       "  </thead>\n",
       "  <tbody>\n",
       "    <tr>\n",
       "      <th>count</th>\n",
       "      <td>1.923700e+04</td>\n",
       "      <td>1.923700e+04</td>\n",
       "      <td>19237.000000</td>\n",
       "      <td>19237.000000</td>\n",
       "      <td>19237.000000</td>\n",
       "    </tr>\n",
       "    <tr>\n",
       "      <th>mean</th>\n",
       "      <td>4.557654e+07</td>\n",
       "      <td>1.855593e+04</td>\n",
       "      <td>2010.912824</td>\n",
       "      <td>4.582991</td>\n",
       "      <td>6.582627</td>\n",
       "    </tr>\n",
       "    <tr>\n",
       "      <th>std</th>\n",
       "      <td>9.365914e+05</td>\n",
       "      <td>1.905813e+05</td>\n",
       "      <td>5.668673</td>\n",
       "      <td>1.199933</td>\n",
       "      <td>4.320168</td>\n",
       "    </tr>\n",
       "    <tr>\n",
       "      <th>min</th>\n",
       "      <td>2.074688e+07</td>\n",
       "      <td>1.000000e+00</td>\n",
       "      <td>1939.000000</td>\n",
       "      <td>1.000000</td>\n",
       "      <td>0.000000</td>\n",
       "    </tr>\n",
       "    <tr>\n",
       "      <th>25%</th>\n",
       "      <td>4.569837e+07</td>\n",
       "      <td>5.331000e+03</td>\n",
       "      <td>2009.000000</td>\n",
       "      <td>4.000000</td>\n",
       "      <td>4.000000</td>\n",
       "    </tr>\n",
       "    <tr>\n",
       "      <th>50%</th>\n",
       "      <td>4.577231e+07</td>\n",
       "      <td>1.317200e+04</td>\n",
       "      <td>2012.000000</td>\n",
       "      <td>4.000000</td>\n",
       "      <td>6.000000</td>\n",
       "    </tr>\n",
       "    <tr>\n",
       "      <th>75%</th>\n",
       "      <td>4.580204e+07</td>\n",
       "      <td>2.207500e+04</td>\n",
       "      <td>2015.000000</td>\n",
       "      <td>4.000000</td>\n",
       "      <td>12.000000</td>\n",
       "    </tr>\n",
       "    <tr>\n",
       "      <th>max</th>\n",
       "      <td>4.581665e+07</td>\n",
       "      <td>2.630750e+07</td>\n",
       "      <td>2020.000000</td>\n",
       "      <td>16.000000</td>\n",
       "      <td>16.000000</td>\n",
       "    </tr>\n",
       "  </tbody>\n",
       "</table>\n",
       "</div>"
      ],
      "text/plain": [
       "                 ID         Price    Prod. year     Cylinders       Airbags\n",
       "count  1.923700e+04  1.923700e+04  19237.000000  19237.000000  19237.000000\n",
       "mean   4.557654e+07  1.855593e+04   2010.912824      4.582991      6.582627\n",
       "std    9.365914e+05  1.905813e+05      5.668673      1.199933      4.320168\n",
       "min    2.074688e+07  1.000000e+00   1939.000000      1.000000      0.000000\n",
       "25%    4.569837e+07  5.331000e+03   2009.000000      4.000000      4.000000\n",
       "50%    4.577231e+07  1.317200e+04   2012.000000      4.000000      6.000000\n",
       "75%    4.580204e+07  2.207500e+04   2015.000000      4.000000     12.000000\n",
       "max    4.581665e+07  2.630750e+07   2020.000000     16.000000     16.000000"
      ]
     },
     "execution_count": 7,
     "metadata": {},
     "output_type": "execute_result"
    }
   ],
   "source": [
    "data.describe()"
   ]
  },
  {
   "cell_type": "code",
   "execution_count": 8,
   "id": "0f9c65a6-9a54-4332-98b6-492ae9246da0",
   "metadata": {},
   "outputs": [
    {
     "name": "stdout",
     "output_type": "stream",
     "text": [
      "<class 'pandas.core.frame.DataFrame'>\n",
      "RangeIndex: 19237 entries, 0 to 19236\n",
      "Data columns (total 18 columns):\n",
      " #   Column            Non-Null Count  Dtype  \n",
      "---  ------            --------------  -----  \n",
      " 0   ID                19237 non-null  int64  \n",
      " 1   Price             19237 non-null  int64  \n",
      " 2   Levy              19237 non-null  object \n",
      " 3   Manufacturer      19237 non-null  object \n",
      " 4   Model             19237 non-null  object \n",
      " 5   Prod. year        19237 non-null  int64  \n",
      " 6   Category          19237 non-null  object \n",
      " 7   Leather interior  19237 non-null  object \n",
      " 8   Fuel type         19237 non-null  object \n",
      " 9   Engine volume     19237 non-null  object \n",
      " 10  Mileage           19237 non-null  object \n",
      " 11  Cylinders         19237 non-null  float64\n",
      " 12  Gear box type     19237 non-null  object \n",
      " 13  Drive wheels      19237 non-null  object \n",
      " 14  Doors             19237 non-null  object \n",
      " 15  Wheel             19237 non-null  object \n",
      " 16  Color             19237 non-null  object \n",
      " 17  Airbags           19237 non-null  int64  \n",
      "dtypes: float64(1), int64(4), object(13)\n",
      "memory usage: 2.6+ MB\n"
     ]
    }
   ],
   "source": [
    "data.info()"
   ]
  },
  {
   "cell_type": "code",
   "execution_count": 9,
   "id": "a2a4342e-5a0e-4611-9fbe-c4952e7e25a1",
   "metadata": {},
   "outputs": [
    {
     "data": {
      "text/plain": [
       "313"
      ]
     },
     "execution_count": 9,
     "metadata": {},
     "output_type": "execute_result"
    }
   ],
   "source": [
    "data.duplicated().sum()\n"
   ]
  },
  {
   "cell_type": "code",
   "execution_count": 10,
   "id": "5dd7d850-7d3d-4beb-a47a-46031722d478",
   "metadata": {},
   "outputs": [],
   "source": [
    "data.drop_duplicates(inplace=True)"
   ]
  },
  {
   "cell_type": "code",
   "execution_count": 11,
   "id": "8759be2f-26a6-4150-bb72-eb383a5e3ea8",
   "metadata": {},
   "outputs": [
    {
     "data": {
      "text/plain": [
       "ID                  0\n",
       "Price               0\n",
       "Levy                0\n",
       "Manufacturer        0\n",
       "Model               0\n",
       "Prod. year          0\n",
       "Category            0\n",
       "Leather interior    0\n",
       "Fuel type           0\n",
       "Engine volume       0\n",
       "Mileage             0\n",
       "Cylinders           0\n",
       "Gear box type       0\n",
       "Drive wheels        0\n",
       "Doors               0\n",
       "Wheel               0\n",
       "Color               0\n",
       "Airbags             0\n",
       "dtype: int64"
      ]
     },
     "execution_count": 11,
     "metadata": {},
     "output_type": "execute_result"
    }
   ],
   "source": [
    "data.isnull().sum()"
   ]
  },
  {
   "cell_type": "code",
   "execution_count": 12,
   "id": "01179de7-f393-492d-92e0-33c61db4df13",
   "metadata": {},
   "outputs": [
    {
     "data": {
      "text/plain": [
       "(18924, 18)"
      ]
     },
     "execution_count": 12,
     "metadata": {},
     "output_type": "execute_result"
    }
   ],
   "source": [
    "data.shape"
   ]
  },
  {
   "cell_type": "markdown",
   "id": "ec5c16a4-c99f-48bf-891c-ccb351092af8",
   "metadata": {},
   "source": [
    "# 2- Analysis\n"
   ]
  },
  {
   "cell_type": "code",
   "execution_count": 13,
   "id": "da7f69e6-e64c-4d55-ab0c-0f75d67479dc",
   "metadata": {},
   "outputs": [
    {
     "name": "stdout",
     "output_type": "stream",
     "text": [
      "ID : 18924\n",
      "Price : 2315\n",
      "Levy : 559\n",
      "Manufacturer : 65\n",
      "Model : 1590\n",
      "Prod. year : 54\n",
      "Category : 11\n",
      "Leather interior : 2\n",
      "Fuel type : 7\n",
      "Engine volume : 107\n",
      "Mileage : 7687\n",
      "Cylinders : 13\n",
      "Gear box type : 4\n",
      "Drive wheels : 3\n",
      "Doors : 3\n",
      "Wheel : 2\n",
      "Color : 16\n",
      "Airbags : 17\n"
     ]
    }
   ],
   "source": [
    "for col in data.columns:\n",
    "  print(col,\":\",data[col].nunique())"
   ]
  },
  {
   "cell_type": "code",
   "execution_count": 14,
   "id": "50b35ec1-f428-4c26-956b-85f7e7195c5c",
   "metadata": {},
   "outputs": [
    {
     "data": {
      "image/png": "[encoded data removed]",
      "text/plain": [
       "<Figure size 1500x1000 with 6 Axes>"
      ]
     },
     "metadata": {},
     "output_type": "display_data"
    }
   ],
   "source": [
    "data.hist(bins=15, figsize=(15, 10))\n",
    "plt.show()\n"
   ]
  },
  {
   "cell_type": "code",
   "execution_count": 15,
   "id": "e85b29e3-24fc-4e4b-9ade-e928c1f41d4a",
   "metadata": {},
   "outputs": [
    {
     "data": {
      "text/plain": [
       "Manufacturer\n",
       "HYUNDAI          3729\n",
       "TOYOTA           3606\n",
       "MERCEDES-BENZ    2043\n",
       "FORD             1088\n",
       "CHEVROLET        1047\n",
       "BMW              1036\n",
       "HONDA             960\n",
       "LEXUS             927\n",
       "NISSAN            645\n",
       "VOLKSWAGEN        571\n",
       "Name: count, dtype: int64"
      ]
     },
     "execution_count": 15,
     "metadata": {},
     "output_type": "execute_result"
    }
   ],
   "source": [
    "top10Cars = data['Manufacturer'].value_counts().sort_values(ascending=False)[:10]\n",
    "top10Cars"
   ]
  },
  {
   "cell_type": "code",
   "execution_count": 16,
   "id": "a53b6c06-dc36-4382-84ad-9fd13a4c6009",
   "metadata": {},
   "outputs": [
    {
     "data": {
      "image/png": "[encoded data removed]",
      "text/plain": [
       "<Figure size 1000x400 with 1 Axes>"
      ]
     },
     "metadata": {},
     "output_type": "display_data"
    }
   ],
   "source": [
    "top10Cars.plot( figsize=(10,4))\n",
    "plt.show()"
   ]
  },
  {
   "cell_type": "code",
   "execution_count": null,
   "id": "f5e6c41b-6b1d-424a-a9b3-b2e64e7d768f",
   "metadata": {},
   "outputs": [],
   "source": [
    "\n"
   ]
  },
  {
   "cell_type": "code",
   "execution_count": 17,
   "id": "aae060a3-f8e4-47b6-8cb3-b85cee98fea9",
   "metadata": {},
   "outputs": [],
   "source": [
    "data_objects = data.select_dtypes(include='object')"
   ]
  },
  {
   "cell_type": "code",
   "execution_count": 18,
   "id": "a3fb5814-e8c6-486c-8018-b510978f43bc",
   "metadata": {},
   "outputs": [
    {
     "data": {
      "image/png": "[encoded data removed]",
      "text/plain": [
       "<Figure size 1500x500 with 1 Axes>"
      ]
     },
     "metadata": {},
     "output_type": "display_data"
    },
    {
     "data": {
      "image/png": "[encoded data removed]",
      "text/plain": [
       "<Figure size 1500x500 with 1 Axes>"
      ]
     },
     "metadata": {},
     "output_type": "display_data"
    },
    {
     "data": {
      "image/png": "[encoded data removed]",
      "text/plain": [
       "<Figure size 1500x500 with 1 Axes>"
      ]
     },
     "metadata": {},
     "output_type": "display_data"
    },
    {
     "data": {
      "image/png": "[encoded data removed]",
      "text/plain": [
       "<Figure size 1500x500 with 1 Axes>"
      ]
     },
     "metadata": {},
     "output_type": "display_data"
    },
    {
     "data": {
      "image/png": "[encoded data removed]",
      "text/plain": [
       "<Figure size 1500x500 with 1 Axes>"
      ]
     },
     "metadata": {},
     "output_type": "display_data"
    },
    {
     "data": {
      "image/png": "[encoded data removed]",
      "text/plain": [
       "<Figure size 1500x500 with 1 Axes>"
      ]
     },
     "metadata": {},
     "output_type": "display_data"
    },
    {
     "data": {
      "image/png": "[encoded data removed]",
      "text/plain": [
       "<Figure size 1500x500 with 1 Axes>"
      ]
     },
     "metadata": {},
     "output_type": "display_data"
    },
    {
     "data": {
      "image/png": "[encoded data removed]",
      "text/plain": [
       "<Figure size 1500x500 with 1 Axes>"
      ]
     },
     "metadata": {},
     "output_type": "display_data"
    },
    {
     "data": {
      "image/png": "[encoded data removed]",
      "text/plain": [
       "<Figure size 1500x500 with 1 Axes>"
      ]
     },
     "metadata": {},
     "output_type": "display_data"
    },
    {
     "data": {
      "image/png": "[encoded data removed]",
      "text/plain": [
       "<Figure size 1500x500 with 1 Axes>"
      ]
     },
     "metadata": {},
     "output_type": "display_data"
    },
    {
     "data": {
      "image/png": "[encoded data removed]",
      "text/plain": [
       "<Figure size 1500x500 with 1 Axes>"
      ]
     },
     "metadata": {},
     "output_type": "display_data"
    },
    {
     "data": {
      "image/png": "[encoded data removed]",
      "text/plain": [
       "<Figure size 1500x500 with 1 Axes>"
      ]
     },
     "metadata": {},
     "output_type": "display_data"
    },
    {
     "data": {
      "image/png": "[encoded data removed]",
      "text/plain": [
       "<Figure size 1500x500 with 1 Axes>"
      ]
     },
     "metadata": {},
     "output_type": "display_data"
    }
   ],
   "source": [
    "for object in data_objects:\n",
    "   plt.figure(figsize=(15,5))\n",
    "   top10=data[object].value_counts()[:10]\n",
    "   top10.plot(kind='bar')\n",
    "   plt.title(\"top 10\"+\" \"+object)\n",
    "   plt.show()\n"
   ]
  },
  {
   "cell_type": "markdown",
   "id": "b7380f39-d7a7-4bf2-ba5b-0ab3a59970a2",
   "metadata": {},
   "source": [
    "# 3- Data Processing"
   ]
  },
  {
   "cell_type": "code",
   "execution_count": 19,
   "id": "090b2408-a305-4e68-a0f4-655dfde47abf",
   "metadata": {},
   "outputs": [
    {
     "data": {
      "text/html": [
       "<div>\n",
       "<style scoped>\n",
       "    .dataframe tbody tr th:only-of-type {\n",
       "        vertical-align: middle;\n",
       "    }\n",
       "\n",
       "    .dataframe tbody tr th {\n",
       "        vertical-align: top;\n",
       "    }\n",
       "\n",
       "    .dataframe thead th {\n",
       "        text-align: right;\n",
       "    }\n",
       "</style>\n",
       "<table border=\"1\" class=\"dataframe\">\n",
       "  <thead>\n",
       "    <tr style=\"text-align: right;\">\n",
       "      <th></th>\n",
       "      <th>ID</th>\n",
       "      <th>Price</th>\n",
       "      <th>Levy</th>\n",
       "      <th>Manufacturer</th>\n",
       "      <th>Model</th>\n",
       "      <th>Prod. year</th>\n",
       "      <th>Category</th>\n",
       "      <th>Leather interior</th>\n",
       "      <th>Fuel type</th>\n",
       "      <th>Engine volume</th>\n",
       "      <th>Mileage</th>\n",
       "      <th>Cylinders</th>\n",
       "      <th>Gear box type</th>\n",
       "      <th>Drive wheels</th>\n",
       "      <th>Doors</th>\n",
       "      <th>Wheel</th>\n",
       "      <th>Color</th>\n",
       "      <th>Airbags</th>\n",
       "    </tr>\n",
       "  </thead>\n",
       "  <tbody>\n",
       "    <tr>\n",
       "      <th>0</th>\n",
       "      <td>45654403</td>\n",
       "      <td>13328</td>\n",
       "      <td>1399</td>\n",
       "      <td>LEXUS</td>\n",
       "      <td>RX 450</td>\n",
       "      <td>2010</td>\n",
       "      <td>Jeep</td>\n",
       "      <td>Yes</td>\n",
       "      <td>Hybrid</td>\n",
       "      <td>3.5</td>\n",
       "      <td>186005 km</td>\n",
       "      <td>6.0</td>\n",
       "      <td>Automatic</td>\n",
       "      <td>4x4</td>\n",
       "      <td>04-May</td>\n",
       "      <td>Left wheel</td>\n",
       "      <td>Silver</td>\n",
       "      <td>12</td>\n",
       "    </tr>\n",
       "    <tr>\n",
       "      <th>1</th>\n",
       "      <td>44731507</td>\n",
       "      <td>16621</td>\n",
       "      <td>1018</td>\n",
       "      <td>CHEVROLET</td>\n",
       "      <td>Equinox</td>\n",
       "      <td>2011</td>\n",
       "      <td>Jeep</td>\n",
       "      <td>No</td>\n",
       "      <td>Petrol</td>\n",
       "      <td>3</td>\n",
       "      <td>192000 km</td>\n",
       "      <td>6.0</td>\n",
       "      <td>Tiptronic</td>\n",
       "      <td>4x4</td>\n",
       "      <td>04-May</td>\n",
       "      <td>Left wheel</td>\n",
       "      <td>Black</td>\n",
       "      <td>8</td>\n",
       "    </tr>\n",
       "    <tr>\n",
       "      <th>2</th>\n",
       "      <td>45774419</td>\n",
       "      <td>8467</td>\n",
       "      <td>-</td>\n",
       "      <td>HONDA</td>\n",
       "      <td>FIT</td>\n",
       "      <td>2006</td>\n",
       "      <td>Hatchback</td>\n",
       "      <td>No</td>\n",
       "      <td>Petrol</td>\n",
       "      <td>1.3</td>\n",
       "      <td>200000 km</td>\n",
       "      <td>4.0</td>\n",
       "      <td>Variator</td>\n",
       "      <td>Front</td>\n",
       "      <td>04-May</td>\n",
       "      <td>Right-hand drive</td>\n",
       "      <td>Black</td>\n",
       "      <td>2</td>\n",
       "    </tr>\n",
       "    <tr>\n",
       "      <th>3</th>\n",
       "      <td>45769185</td>\n",
       "      <td>3607</td>\n",
       "      <td>862</td>\n",
       "      <td>FORD</td>\n",
       "      <td>Escape</td>\n",
       "      <td>2011</td>\n",
       "      <td>Jeep</td>\n",
       "      <td>Yes</td>\n",
       "      <td>Hybrid</td>\n",
       "      <td>2.5</td>\n",
       "      <td>168966 km</td>\n",
       "      <td>4.0</td>\n",
       "      <td>Automatic</td>\n",
       "      <td>4x4</td>\n",
       "      <td>04-May</td>\n",
       "      <td>Left wheel</td>\n",
       "      <td>White</td>\n",
       "      <td>0</td>\n",
       "    </tr>\n",
       "    <tr>\n",
       "      <th>4</th>\n",
       "      <td>45809263</td>\n",
       "      <td>11726</td>\n",
       "      <td>446</td>\n",
       "      <td>HONDA</td>\n",
       "      <td>FIT</td>\n",
       "      <td>2014</td>\n",
       "      <td>Hatchback</td>\n",
       "      <td>Yes</td>\n",
       "      <td>Petrol</td>\n",
       "      <td>1.3</td>\n",
       "      <td>91901 km</td>\n",
       "      <td>4.0</td>\n",
       "      <td>Automatic</td>\n",
       "      <td>Front</td>\n",
       "      <td>04-May</td>\n",
       "      <td>Left wheel</td>\n",
       "      <td>Silver</td>\n",
       "      <td>4</td>\n",
       "    </tr>\n",
       "  </tbody>\n",
       "</table>\n",
       "</div>"
      ],
      "text/plain": [
       "         ID  Price  Levy Manufacturer    Model  Prod. year   Category  \\\n",
       "0  45654403  13328  1399        LEXUS   RX 450        2010       Jeep   \n",
       "1  44731507  16621  1018    CHEVROLET  Equinox        2011       Jeep   \n",
       "2  45774419   8467     -        HONDA      FIT        2006  Hatchback   \n",
       "3  45769185   3607   862         FORD   Escape        2011       Jeep   \n",
       "4  45809263  11726   446        HONDA      FIT        2014  Hatchback   \n",
       "\n",
       "  Leather interior Fuel type Engine volume    Mileage  Cylinders  \\\n",
       "0              Yes    Hybrid           3.5  186005 km        6.0   \n",
       "1               No    Petrol             3  192000 km        6.0   \n",
       "2               No    Petrol           1.3  200000 km        4.0   \n",
       "3              Yes    Hybrid           2.5  168966 km        4.0   \n",
       "4              Yes    Petrol           1.3   91901 km        4.0   \n",
       "\n",
       "  Gear box type Drive wheels   Doors             Wheel   Color  Airbags  \n",
       "0     Automatic          4x4  04-May        Left wheel  Silver       12  \n",
       "1     Tiptronic          4x4  04-May        Left wheel   Black        8  \n",
       "2      Variator        Front  04-May  Right-hand drive   Black        2  \n",
       "3     Automatic          4x4  04-May        Left wheel   White        0  \n",
       "4     Automatic        Front  04-May        Left wheel  Silver        4  "
      ]
     },
     "execution_count": 19,
     "metadata": {},
     "output_type": "execute_result"
    }
   ],
   "source": [
    "data.head()"
   ]
  },
  {
   "cell_type": "code",
   "execution_count": 20,
   "id": "0f768a23-555e-41fe-a64a-959108030c33",
   "metadata": {},
   "outputs": [],
   "source": [
    "data=data.drop(['ID','Doors'],axis=1)"
   ]
  },
  {
   "cell_type": "code",
   "execution_count": 21,
   "id": "750ff84f-3d37-450f-9fab-3d66032fd05f",
   "metadata": {},
   "outputs": [
    {
     "data": {
      "text/html": [
       "<div>\n",
       "<style scoped>\n",
       "    .dataframe tbody tr th:only-of-type {\n",
       "        vertical-align: middle;\n",
       "    }\n",
       "\n",
       "    .dataframe tbody tr th {\n",
       "        vertical-align: top;\n",
       "    }\n",
       "\n",
       "    .dataframe thead th {\n",
       "        text-align: right;\n",
       "    }\n",
       "</style>\n",
       "<table border=\"1\" class=\"dataframe\">\n",
       "  <thead>\n",
       "    <tr style=\"text-align: right;\">\n",
       "      <th></th>\n",
       "      <th>Price</th>\n",
       "      <th>Levy</th>\n",
       "      <th>Manufacturer</th>\n",
       "      <th>Model</th>\n",
       "      <th>Prod. year</th>\n",
       "      <th>Category</th>\n",
       "      <th>Leather interior</th>\n",
       "      <th>Fuel type</th>\n",
       "      <th>Engine volume</th>\n",
       "      <th>Mileage</th>\n",
       "      <th>Cylinders</th>\n",
       "      <th>Gear box type</th>\n",
       "      <th>Drive wheels</th>\n",
       "      <th>Wheel</th>\n",
       "      <th>Color</th>\n",
       "      <th>Airbags</th>\n",
       "    </tr>\n",
       "  </thead>\n",
       "  <tbody>\n",
       "    <tr>\n",
       "      <th>0</th>\n",
       "      <td>13328</td>\n",
       "      <td>1399</td>\n",
       "      <td>LEXUS</td>\n",
       "      <td>RX 450</td>\n",
       "      <td>2010</td>\n",
       "      <td>Jeep</td>\n",
       "      <td>Yes</td>\n",
       "      <td>Hybrid</td>\n",
       "      <td>3.5</td>\n",
       "      <td>186005 km</td>\n",
       "      <td>6.0</td>\n",
       "      <td>Automatic</td>\n",
       "      <td>4x4</td>\n",
       "      <td>Left wheel</td>\n",
       "      <td>Silver</td>\n",
       "      <td>12</td>\n",
       "    </tr>\n",
       "    <tr>\n",
       "      <th>1</th>\n",
       "      <td>16621</td>\n",
       "      <td>1018</td>\n",
       "      <td>CHEVROLET</td>\n",
       "      <td>Equinox</td>\n",
       "      <td>2011</td>\n",
       "      <td>Jeep</td>\n",
       "      <td>No</td>\n",
       "      <td>Petrol</td>\n",
       "      <td>3</td>\n",
       "      <td>192000 km</td>\n",
       "      <td>6.0</td>\n",
       "      <td>Tiptronic</td>\n",
       "      <td>4x4</td>\n",
       "      <td>Left wheel</td>\n",
       "      <td>Black</td>\n",
       "      <td>8</td>\n",
       "    </tr>\n",
       "    <tr>\n",
       "      <th>2</th>\n",
       "      <td>8467</td>\n",
       "      <td>-</td>\n",
       "      <td>HONDA</td>\n",
       "      <td>FIT</td>\n",
       "      <td>2006</td>\n",
       "      <td>Hatchback</td>\n",
       "      <td>No</td>\n",
       "      <td>Petrol</td>\n",
       "      <td>1.3</td>\n",
       "      <td>200000 km</td>\n",
       "      <td>4.0</td>\n",
       "      <td>Variator</td>\n",
       "      <td>Front</td>\n",
       "      <td>Right-hand drive</td>\n",
       "      <td>Black</td>\n",
       "      <td>2</td>\n",
       "    </tr>\n",
       "    <tr>\n",
       "      <th>3</th>\n",
       "      <td>3607</td>\n",
       "      <td>862</td>\n",
       "      <td>FORD</td>\n",
       "      <td>Escape</td>\n",
       "      <td>2011</td>\n",
       "      <td>Jeep</td>\n",
       "      <td>Yes</td>\n",
       "      <td>Hybrid</td>\n",
       "      <td>2.5</td>\n",
       "      <td>168966 km</td>\n",
       "      <td>4.0</td>\n",
       "      <td>Automatic</td>\n",
       "      <td>4x4</td>\n",
       "      <td>Left wheel</td>\n",
       "      <td>White</td>\n",
       "      <td>0</td>\n",
       "    </tr>\n",
       "    <tr>\n",
       "      <th>4</th>\n",
       "      <td>11726</td>\n",
       "      <td>446</td>\n",
       "      <td>HONDA</td>\n",
       "      <td>FIT</td>\n",
       "      <td>2014</td>\n",
       "      <td>Hatchback</td>\n",
       "      <td>Yes</td>\n",
       "      <td>Petrol</td>\n",
       "      <td>1.3</td>\n",
       "      <td>91901 km</td>\n",
       "      <td>4.0</td>\n",
       "      <td>Automatic</td>\n",
       "      <td>Front</td>\n",
       "      <td>Left wheel</td>\n",
       "      <td>Silver</td>\n",
       "      <td>4</td>\n",
       "    </tr>\n",
       "  </tbody>\n",
       "</table>\n",
       "</div>"
      ],
      "text/plain": [
       "   Price  Levy Manufacturer    Model  Prod. year   Category Leather interior  \\\n",
       "0  13328  1399        LEXUS   RX 450        2010       Jeep              Yes   \n",
       "1  16621  1018    CHEVROLET  Equinox        2011       Jeep               No   \n",
       "2   8467     -        HONDA      FIT        2006  Hatchback               No   \n",
       "3   3607   862         FORD   Escape        2011       Jeep              Yes   \n",
       "4  11726   446        HONDA      FIT        2014  Hatchback              Yes   \n",
       "\n",
       "  Fuel type Engine volume    Mileage  Cylinders Gear box type Drive wheels  \\\n",
       "0    Hybrid           3.5  186005 km        6.0     Automatic          4x4   \n",
       "1    Petrol             3  192000 km        6.0     Tiptronic          4x4   \n",
       "2    Petrol           1.3  200000 km        4.0      Variator        Front   \n",
       "3    Hybrid           2.5  168966 km        4.0     Automatic          4x4   \n",
       "4    Petrol           1.3   91901 km        4.0     Automatic        Front   \n",
       "\n",
       "              Wheel   Color  Airbags  \n",
       "0        Left wheel  Silver       12  \n",
       "1        Left wheel   Black        8  \n",
       "2  Right-hand drive   Black        2  \n",
       "3        Left wheel   White        0  \n",
       "4        Left wheel  Silver        4  "
      ]
     },
     "execution_count": 21,
     "metadata": {},
     "output_type": "execute_result"
    }
   ],
   "source": [
    "data.head()"
   ]
  },
  {
   "cell_type": "code",
   "execution_count": 22,
   "id": "b670bc10-5fb7-48c8-8ba0-16509487b264",
   "metadata": {},
   "outputs": [],
   "source": [
    "import datetime\n",
    "datet=datetime.datetime.now()"
   ]
  },
  {
   "cell_type": "code",
   "execution_count": 23,
   "id": "49f9eb72-b266-44df-a12a-47bec03c41c0",
   "metadata": {},
   "outputs": [],
   "source": [
    "data['Age']=datet.year-data['Prod. year']"
   ]
  },
  {
   "cell_type": "code",
   "execution_count": 24,
   "id": "fe61ef2f-8522-4dff-97f3-10fdf6cf5d82",
   "metadata": {},
   "outputs": [
    {
     "data": {
      "text/html": [
       "<div>\n",
       "<style scoped>\n",
       "    .dataframe tbody tr th:only-of-type {\n",
       "        vertical-align: middle;\n",
       "    }\n",
       "\n",
       "    .dataframe tbody tr th {\n",
       "        vertical-align: top;\n",
       "    }\n",
       "\n",
       "    .dataframe thead th {\n",
       "        text-align: right;\n",
       "    }\n",
       "</style>\n",
       "<table border=\"1\" class=\"dataframe\">\n",
       "  <thead>\n",
       "    <tr style=\"text-align: right;\">\n",
       "      <th></th>\n",
       "      <th>Price</th>\n",
       "      <th>Levy</th>\n",
       "      <th>Manufacturer</th>\n",
       "      <th>Model</th>\n",
       "      <th>Prod. year</th>\n",
       "      <th>Category</th>\n",
       "      <th>Leather interior</th>\n",
       "      <th>Fuel type</th>\n",
       "      <th>Engine volume</th>\n",
       "      <th>Mileage</th>\n",
       "      <th>Cylinders</th>\n",
       "      <th>Gear box type</th>\n",
       "      <th>Drive wheels</th>\n",
       "      <th>Wheel</th>\n",
       "      <th>Color</th>\n",
       "      <th>Airbags</th>\n",
       "      <th>Age</th>\n",
       "    </tr>\n",
       "  </thead>\n",
       "  <tbody>\n",
       "    <tr>\n",
       "      <th>0</th>\n",
       "      <td>13328</td>\n",
       "      <td>1399</td>\n",
       "      <td>LEXUS</td>\n",
       "      <td>RX 450</td>\n",
       "      <td>2010</td>\n",
       "      <td>Jeep</td>\n",
       "      <td>Yes</td>\n",
       "      <td>Hybrid</td>\n",
       "      <td>3.5</td>\n",
       "      <td>186005 km</td>\n",
       "      <td>6.0</td>\n",
       "      <td>Automatic</td>\n",
       "      <td>4x4</td>\n",
       "      <td>Left wheel</td>\n",
       "      <td>Silver</td>\n",
       "      <td>12</td>\n",
       "      <td>14</td>\n",
       "    </tr>\n",
       "    <tr>\n",
       "      <th>1</th>\n",
       "      <td>16621</td>\n",
       "      <td>1018</td>\n",
       "      <td>CHEVROLET</td>\n",
       "      <td>Equinox</td>\n",
       "      <td>2011</td>\n",
       "      <td>Jeep</td>\n",
       "      <td>No</td>\n",
       "      <td>Petrol</td>\n",
       "      <td>3</td>\n",
       "      <td>192000 km</td>\n",
       "      <td>6.0</td>\n",
       "      <td>Tiptronic</td>\n",
       "      <td>4x4</td>\n",
       "      <td>Left wheel</td>\n",
       "      <td>Black</td>\n",
       "      <td>8</td>\n",
       "      <td>13</td>\n",
       "    </tr>\n",
       "    <tr>\n",
       "      <th>2</th>\n",
       "      <td>8467</td>\n",
       "      <td>-</td>\n",
       "      <td>HONDA</td>\n",
       "      <td>FIT</td>\n",
       "      <td>2006</td>\n",
       "      <td>Hatchback</td>\n",
       "      <td>No</td>\n",
       "      <td>Petrol</td>\n",
       "      <td>1.3</td>\n",
       "      <td>200000 km</td>\n",
       "      <td>4.0</td>\n",
       "      <td>Variator</td>\n",
       "      <td>Front</td>\n",
       "      <td>Right-hand drive</td>\n",
       "      <td>Black</td>\n",
       "      <td>2</td>\n",
       "      <td>18</td>\n",
       "    </tr>\n",
       "    <tr>\n",
       "      <th>3</th>\n",
       "      <td>3607</td>\n",
       "      <td>862</td>\n",
       "      <td>FORD</td>\n",
       "      <td>Escape</td>\n",
       "      <td>2011</td>\n",
       "      <td>Jeep</td>\n",
       "      <td>Yes</td>\n",
       "      <td>Hybrid</td>\n",
       "      <td>2.5</td>\n",
       "      <td>168966 km</td>\n",
       "      <td>4.0</td>\n",
       "      <td>Automatic</td>\n",
       "      <td>4x4</td>\n",
       "      <td>Left wheel</td>\n",
       "      <td>White</td>\n",
       "      <td>0</td>\n",
       "      <td>13</td>\n",
       "    </tr>\n",
       "    <tr>\n",
       "      <th>4</th>\n",
       "      <td>11726</td>\n",
       "      <td>446</td>\n",
       "      <td>HONDA</td>\n",
       "      <td>FIT</td>\n",
       "      <td>2014</td>\n",
       "      <td>Hatchback</td>\n",
       "      <td>Yes</td>\n",
       "      <td>Petrol</td>\n",
       "      <td>1.3</td>\n",
       "      <td>91901 km</td>\n",
       "      <td>4.0</td>\n",
       "      <td>Automatic</td>\n",
       "      <td>Front</td>\n",
       "      <td>Left wheel</td>\n",
       "      <td>Silver</td>\n",
       "      <td>4</td>\n",
       "      <td>10</td>\n",
       "    </tr>\n",
       "  </tbody>\n",
       "</table>\n",
       "</div>"
      ],
      "text/plain": [
       "   Price  Levy Manufacturer    Model  Prod. year   Category Leather interior  \\\n",
       "0  13328  1399        LEXUS   RX 450        2010       Jeep              Yes   \n",
       "1  16621  1018    CHEVROLET  Equinox        2011       Jeep               No   \n",
       "2   8467     -        HONDA      FIT        2006  Hatchback               No   \n",
       "3   3607   862         FORD   Escape        2011       Jeep              Yes   \n",
       "4  11726   446        HONDA      FIT        2014  Hatchback              Yes   \n",
       "\n",
       "  Fuel type Engine volume    Mileage  Cylinders Gear box type Drive wheels  \\\n",
       "0    Hybrid           3.5  186005 km        6.0     Automatic          4x4   \n",
       "1    Petrol             3  192000 km        6.0     Tiptronic          4x4   \n",
       "2    Petrol           1.3  200000 km        4.0      Variator        Front   \n",
       "3    Hybrid           2.5  168966 km        4.0     Automatic          4x4   \n",
       "4    Petrol           1.3   91901 km        4.0     Automatic        Front   \n",
       "\n",
       "              Wheel   Color  Airbags  Age  \n",
       "0        Left wheel  Silver       12   14  \n",
       "1        Left wheel   Black        8   13  \n",
       "2  Right-hand drive   Black        2   18  \n",
       "3        Left wheel   White        0   13  \n",
       "4        Left wheel  Silver        4   10  "
      ]
     },
     "execution_count": 24,
     "metadata": {},
     "output_type": "execute_result"
    }
   ],
   "source": [
    "data.head()"
   ]
  },
  {
   "cell_type": "code",
   "execution_count": 25,
   "id": "1489e253-e860-460d-a7a7-4c668e6b7ca7",
   "metadata": {},
   "outputs": [],
   "source": [
    "data=data.drop(['Prod. year'],axis=1)"
   ]
  },
  {
   "cell_type": "code",
   "execution_count": 26,
   "id": "d54c72a1-aa7b-4cdc-93c7-d1a316a99225",
   "metadata": {},
   "outputs": [
    {
     "data": {
      "text/html": [
       "<div>\n",
       "<style scoped>\n",
       "    .dataframe tbody tr th:only-of-type {\n",
       "        vertical-align: middle;\n",
       "    }\n",
       "\n",
       "    .dataframe tbody tr th {\n",
       "        vertical-align: top;\n",
       "    }\n",
       "\n",
       "    .dataframe thead th {\n",
       "        text-align: right;\n",
       "    }\n",
       "</style>\n",
       "<table border=\"1\" class=\"dataframe\">\n",
       "  <thead>\n",
       "    <tr style=\"text-align: right;\">\n",
       "      <th></th>\n",
       "      <th>Price</th>\n",
       "      <th>Levy</th>\n",
       "      <th>Manufacturer</th>\n",
       "      <th>Model</th>\n",
       "      <th>Category</th>\n",
       "      <th>Leather interior</th>\n",
       "      <th>Fuel type</th>\n",
       "      <th>Engine volume</th>\n",
       "      <th>Mileage</th>\n",
       "      <th>Cylinders</th>\n",
       "      <th>Gear box type</th>\n",
       "      <th>Drive wheels</th>\n",
       "      <th>Wheel</th>\n",
       "      <th>Color</th>\n",
       "      <th>Airbags</th>\n",
       "      <th>Age</th>\n",
       "    </tr>\n",
       "  </thead>\n",
       "  <tbody>\n",
       "    <tr>\n",
       "      <th>0</th>\n",
       "      <td>13328</td>\n",
       "      <td>1399</td>\n",
       "      <td>LEXUS</td>\n",
       "      <td>RX 450</td>\n",
       "      <td>Jeep</td>\n",
       "      <td>Yes</td>\n",
       "      <td>Hybrid</td>\n",
       "      <td>3.5</td>\n",
       "      <td>186005 km</td>\n",
       "      <td>6.0</td>\n",
       "      <td>Automatic</td>\n",
       "      <td>4x4</td>\n",
       "      <td>Left wheel</td>\n",
       "      <td>Silver</td>\n",
       "      <td>12</td>\n",
       "      <td>14</td>\n",
       "    </tr>\n",
       "    <tr>\n",
       "      <th>1</th>\n",
       "      <td>16621</td>\n",
       "      <td>1018</td>\n",
       "      <td>CHEVROLET</td>\n",
       "      <td>Equinox</td>\n",
       "      <td>Jeep</td>\n",
       "      <td>No</td>\n",
       "      <td>Petrol</td>\n",
       "      <td>3</td>\n",
       "      <td>192000 km</td>\n",
       "      <td>6.0</td>\n",
       "      <td>Tiptronic</td>\n",
       "      <td>4x4</td>\n",
       "      <td>Left wheel</td>\n",
       "      <td>Black</td>\n",
       "      <td>8</td>\n",
       "      <td>13</td>\n",
       "    </tr>\n",
       "    <tr>\n",
       "      <th>2</th>\n",
       "      <td>8467</td>\n",
       "      <td>-</td>\n",
       "      <td>HONDA</td>\n",
       "      <td>FIT</td>\n",
       "      <td>Hatchback</td>\n",
       "      <td>No</td>\n",
       "      <td>Petrol</td>\n",
       "      <td>1.3</td>\n",
       "      <td>200000 km</td>\n",
       "      <td>4.0</td>\n",
       "      <td>Variator</td>\n",
       "      <td>Front</td>\n",
       "      <td>Right-hand drive</td>\n",
       "      <td>Black</td>\n",
       "      <td>2</td>\n",
       "      <td>18</td>\n",
       "    </tr>\n",
       "    <tr>\n",
       "      <th>3</th>\n",
       "      <td>3607</td>\n",
       "      <td>862</td>\n",
       "      <td>FORD</td>\n",
       "      <td>Escape</td>\n",
       "      <td>Jeep</td>\n",
       "      <td>Yes</td>\n",
       "      <td>Hybrid</td>\n",
       "      <td>2.5</td>\n",
       "      <td>168966 km</td>\n",
       "      <td>4.0</td>\n",
       "      <td>Automatic</td>\n",
       "      <td>4x4</td>\n",
       "      <td>Left wheel</td>\n",
       "      <td>White</td>\n",
       "      <td>0</td>\n",
       "      <td>13</td>\n",
       "    </tr>\n",
       "    <tr>\n",
       "      <th>4</th>\n",
       "      <td>11726</td>\n",
       "      <td>446</td>\n",
       "      <td>HONDA</td>\n",
       "      <td>FIT</td>\n",
       "      <td>Hatchback</td>\n",
       "      <td>Yes</td>\n",
       "      <td>Petrol</td>\n",
       "      <td>1.3</td>\n",
       "      <td>91901 km</td>\n",
       "      <td>4.0</td>\n",
       "      <td>Automatic</td>\n",
       "      <td>Front</td>\n",
       "      <td>Left wheel</td>\n",
       "      <td>Silver</td>\n",
       "      <td>4</td>\n",
       "      <td>10</td>\n",
       "    </tr>\n",
       "  </tbody>\n",
       "</table>\n",
       "</div>"
      ],
      "text/plain": [
       "   Price  Levy Manufacturer    Model   Category Leather interior Fuel type  \\\n",
       "0  13328  1399        LEXUS   RX 450       Jeep              Yes    Hybrid   \n",
       "1  16621  1018    CHEVROLET  Equinox       Jeep               No    Petrol   \n",
       "2   8467     -        HONDA      FIT  Hatchback               No    Petrol   \n",
       "3   3607   862         FORD   Escape       Jeep              Yes    Hybrid   \n",
       "4  11726   446        HONDA      FIT  Hatchback              Yes    Petrol   \n",
       "\n",
       "  Engine volume    Mileage  Cylinders Gear box type Drive wheels  \\\n",
       "0           3.5  186005 km        6.0     Automatic          4x4   \n",
       "1             3  192000 km        6.0     Tiptronic          4x4   \n",
       "2           1.3  200000 km        4.0      Variator        Front   \n",
       "3           2.5  168966 km        4.0     Automatic          4x4   \n",
       "4           1.3   91901 km        4.0     Automatic        Front   \n",
       "\n",
       "              Wheel   Color  Airbags  Age  \n",
       "0        Left wheel  Silver       12   14  \n",
       "1        Left wheel   Black        8   13  \n",
       "2  Right-hand drive   Black        2   18  \n",
       "3        Left wheel   White        0   13  \n",
       "4        Left wheel  Silver        4   10  "
      ]
     },
     "execution_count": 26,
     "metadata": {},
     "output_type": "execute_result"
    }
   ],
   "source": [
    "data.head()"
   ]
  },
  {
   "cell_type": "code",
   "execution_count": 27,
   "id": "c6eebbec-5d47-4161-a2f5-1c3c1379f47e",
   "metadata": {},
   "outputs": [],
   "source": [
    "data.Levy.replace({'-':'0'},inplace=True)"
   ]
  },
  {
   "cell_type": "code",
   "execution_count": 28,
   "id": "1ffe9860-2807-4bbb-81f6-11d0cff067a1",
   "metadata": {},
   "outputs": [
    {
     "data": {
      "text/html": [
       "<div>\n",
       "<style scoped>\n",
       "    .dataframe tbody tr th:only-of-type {\n",
       "        vertical-align: middle;\n",
       "    }\n",
       "\n",
       "    .dataframe tbody tr th {\n",
       "        vertical-align: top;\n",
       "    }\n",
       "\n",
       "    .dataframe thead th {\n",
       "        text-align: right;\n",
       "    }\n",
       "</style>\n",
       "<table border=\"1\" class=\"dataframe\">\n",
       "  <thead>\n",
       "    <tr style=\"text-align: right;\">\n",
       "      <th></th>\n",
       "      <th>Price</th>\n",
       "      <th>Levy</th>\n",
       "      <th>Manufacturer</th>\n",
       "      <th>Model</th>\n",
       "      <th>Category</th>\n",
       "      <th>Leather interior</th>\n",
       "      <th>Fuel type</th>\n",
       "      <th>Engine volume</th>\n",
       "      <th>Mileage</th>\n",
       "      <th>Cylinders</th>\n",
       "      <th>Gear box type</th>\n",
       "      <th>Drive wheels</th>\n",
       "      <th>Wheel</th>\n",
       "      <th>Color</th>\n",
       "      <th>Airbags</th>\n",
       "      <th>Age</th>\n",
       "    </tr>\n",
       "  </thead>\n",
       "  <tbody>\n",
       "    <tr>\n",
       "      <th>0</th>\n",
       "      <td>13328</td>\n",
       "      <td>1399</td>\n",
       "      <td>LEXUS</td>\n",
       "      <td>RX 450</td>\n",
       "      <td>Jeep</td>\n",
       "      <td>Yes</td>\n",
       "      <td>Hybrid</td>\n",
       "      <td>3.5</td>\n",
       "      <td>186005 km</td>\n",
       "      <td>6.0</td>\n",
       "      <td>Automatic</td>\n",
       "      <td>4x4</td>\n",
       "      <td>Left wheel</td>\n",
       "      <td>Silver</td>\n",
       "      <td>12</td>\n",
       "      <td>14</td>\n",
       "    </tr>\n",
       "    <tr>\n",
       "      <th>1</th>\n",
       "      <td>16621</td>\n",
       "      <td>1018</td>\n",
       "      <td>CHEVROLET</td>\n",
       "      <td>Equinox</td>\n",
       "      <td>Jeep</td>\n",
       "      <td>No</td>\n",
       "      <td>Petrol</td>\n",
       "      <td>3</td>\n",
       "      <td>192000 km</td>\n",
       "      <td>6.0</td>\n",
       "      <td>Tiptronic</td>\n",
       "      <td>4x4</td>\n",
       "      <td>Left wheel</td>\n",
       "      <td>Black</td>\n",
       "      <td>8</td>\n",
       "      <td>13</td>\n",
       "    </tr>\n",
       "    <tr>\n",
       "      <th>2</th>\n",
       "      <td>8467</td>\n",
       "      <td>0</td>\n",
       "      <td>HONDA</td>\n",
       "      <td>FIT</td>\n",
       "      <td>Hatchback</td>\n",
       "      <td>No</td>\n",
       "      <td>Petrol</td>\n",
       "      <td>1.3</td>\n",
       "      <td>200000 km</td>\n",
       "      <td>4.0</td>\n",
       "      <td>Variator</td>\n",
       "      <td>Front</td>\n",
       "      <td>Right-hand drive</td>\n",
       "      <td>Black</td>\n",
       "      <td>2</td>\n",
       "      <td>18</td>\n",
       "    </tr>\n",
       "    <tr>\n",
       "      <th>3</th>\n",
       "      <td>3607</td>\n",
       "      <td>862</td>\n",
       "      <td>FORD</td>\n",
       "      <td>Escape</td>\n",
       "      <td>Jeep</td>\n",
       "      <td>Yes</td>\n",
       "      <td>Hybrid</td>\n",
       "      <td>2.5</td>\n",
       "      <td>168966 km</td>\n",
       "      <td>4.0</td>\n",
       "      <td>Automatic</td>\n",
       "      <td>4x4</td>\n",
       "      <td>Left wheel</td>\n",
       "      <td>White</td>\n",
       "      <td>0</td>\n",
       "      <td>13</td>\n",
       "    </tr>\n",
       "    <tr>\n",
       "      <th>4</th>\n",
       "      <td>11726</td>\n",
       "      <td>446</td>\n",
       "      <td>HONDA</td>\n",
       "      <td>FIT</td>\n",
       "      <td>Hatchback</td>\n",
       "      <td>Yes</td>\n",
       "      <td>Petrol</td>\n",
       "      <td>1.3</td>\n",
       "      <td>91901 km</td>\n",
       "      <td>4.0</td>\n",
       "      <td>Automatic</td>\n",
       "      <td>Front</td>\n",
       "      <td>Left wheel</td>\n",
       "      <td>Silver</td>\n",
       "      <td>4</td>\n",
       "      <td>10</td>\n",
       "    </tr>\n",
       "  </tbody>\n",
       "</table>\n",
       "</div>"
      ],
      "text/plain": [
       "   Price  Levy Manufacturer    Model   Category Leather interior Fuel type  \\\n",
       "0  13328  1399        LEXUS   RX 450       Jeep              Yes    Hybrid   \n",
       "1  16621  1018    CHEVROLET  Equinox       Jeep               No    Petrol   \n",
       "2   8467     0        HONDA      FIT  Hatchback               No    Petrol   \n",
       "3   3607   862         FORD   Escape       Jeep              Yes    Hybrid   \n",
       "4  11726   446        HONDA      FIT  Hatchback              Yes    Petrol   \n",
       "\n",
       "  Engine volume    Mileage  Cylinders Gear box type Drive wheels  \\\n",
       "0           3.5  186005 km        6.0     Automatic          4x4   \n",
       "1             3  192000 km        6.0     Tiptronic          4x4   \n",
       "2           1.3  200000 km        4.0      Variator        Front   \n",
       "3           2.5  168966 km        4.0     Automatic          4x4   \n",
       "4           1.3   91901 km        4.0     Automatic        Front   \n",
       "\n",
       "              Wheel   Color  Airbags  Age  \n",
       "0        Left wheel  Silver       12   14  \n",
       "1        Left wheel   Black        8   13  \n",
       "2  Right-hand drive   Black        2   18  \n",
       "3        Left wheel   White        0   13  \n",
       "4        Left wheel  Silver        4   10  "
      ]
     },
     "execution_count": 28,
     "metadata": {},
     "output_type": "execute_result"
    }
   ],
   "source": [
    "data.head()"
   ]
  },
  {
   "cell_type": "code",
   "execution_count": 29,
   "id": "afa13f84-b2f4-4656-a35a-7aa6ce372d88",
   "metadata": {},
   "outputs": [],
   "source": [
    "data['Levy']=data['Levy'].astype(int)"
   ]
  },
  {
   "cell_type": "code",
   "execution_count": 30,
   "id": "321cd05c-433e-407e-8a98-b3870b616646",
   "metadata": {},
   "outputs": [],
   "source": [
    "data['Mileage']=data['Mileage'].str.replace('km','')"
   ]
  },
  {
   "cell_type": "code",
   "execution_count": 31,
   "id": "54c7a6d8-f034-4821-91f3-276cb5e16902",
   "metadata": {},
   "outputs": [
    {
     "data": {
      "text/html": [
       "<div>\n",
       "<style scoped>\n",
       "    .dataframe tbody tr th:only-of-type {\n",
       "        vertical-align: middle;\n",
       "    }\n",
       "\n",
       "    .dataframe tbody tr th {\n",
       "        vertical-align: top;\n",
       "    }\n",
       "\n",
       "    .dataframe thead th {\n",
       "        text-align: right;\n",
       "    }\n",
       "</style>\n",
       "<table border=\"1\" class=\"dataframe\">\n",
       "  <thead>\n",
       "    <tr style=\"text-align: right;\">\n",
       "      <th></th>\n",
       "      <th>Price</th>\n",
       "      <th>Levy</th>\n",
       "      <th>Manufacturer</th>\n",
       "      <th>Model</th>\n",
       "      <th>Category</th>\n",
       "      <th>Leather interior</th>\n",
       "      <th>Fuel type</th>\n",
       "      <th>Engine volume</th>\n",
       "      <th>Mileage</th>\n",
       "      <th>Cylinders</th>\n",
       "      <th>Gear box type</th>\n",
       "      <th>Drive wheels</th>\n",
       "      <th>Wheel</th>\n",
       "      <th>Color</th>\n",
       "      <th>Airbags</th>\n",
       "      <th>Age</th>\n",
       "    </tr>\n",
       "  </thead>\n",
       "  <tbody>\n",
       "    <tr>\n",
       "      <th>0</th>\n",
       "      <td>13328</td>\n",
       "      <td>1399</td>\n",
       "      <td>LEXUS</td>\n",
       "      <td>RX 450</td>\n",
       "      <td>Jeep</td>\n",
       "      <td>Yes</td>\n",
       "      <td>Hybrid</td>\n",
       "      <td>3.5</td>\n",
       "      <td>186005</td>\n",
       "      <td>6.0</td>\n",
       "      <td>Automatic</td>\n",
       "      <td>4x4</td>\n",
       "      <td>Left wheel</td>\n",
       "      <td>Silver</td>\n",
       "      <td>12</td>\n",
       "      <td>14</td>\n",
       "    </tr>\n",
       "    <tr>\n",
       "      <th>1</th>\n",
       "      <td>16621</td>\n",
       "      <td>1018</td>\n",
       "      <td>CHEVROLET</td>\n",
       "      <td>Equinox</td>\n",
       "      <td>Jeep</td>\n",
       "      <td>No</td>\n",
       "      <td>Petrol</td>\n",
       "      <td>3</td>\n",
       "      <td>192000</td>\n",
       "      <td>6.0</td>\n",
       "      <td>Tiptronic</td>\n",
       "      <td>4x4</td>\n",
       "      <td>Left wheel</td>\n",
       "      <td>Black</td>\n",
       "      <td>8</td>\n",
       "      <td>13</td>\n",
       "    </tr>\n",
       "    <tr>\n",
       "      <th>2</th>\n",
       "      <td>8467</td>\n",
       "      <td>0</td>\n",
       "      <td>HONDA</td>\n",
       "      <td>FIT</td>\n",
       "      <td>Hatchback</td>\n",
       "      <td>No</td>\n",
       "      <td>Petrol</td>\n",
       "      <td>1.3</td>\n",
       "      <td>200000</td>\n",
       "      <td>4.0</td>\n",
       "      <td>Variator</td>\n",
       "      <td>Front</td>\n",
       "      <td>Right-hand drive</td>\n",
       "      <td>Black</td>\n",
       "      <td>2</td>\n",
       "      <td>18</td>\n",
       "    </tr>\n",
       "    <tr>\n",
       "      <th>3</th>\n",
       "      <td>3607</td>\n",
       "      <td>862</td>\n",
       "      <td>FORD</td>\n",
       "      <td>Escape</td>\n",
       "      <td>Jeep</td>\n",
       "      <td>Yes</td>\n",
       "      <td>Hybrid</td>\n",
       "      <td>2.5</td>\n",
       "      <td>168966</td>\n",
       "      <td>4.0</td>\n",
       "      <td>Automatic</td>\n",
       "      <td>4x4</td>\n",
       "      <td>Left wheel</td>\n",
       "      <td>White</td>\n",
       "      <td>0</td>\n",
       "      <td>13</td>\n",
       "    </tr>\n",
       "    <tr>\n",
       "      <th>4</th>\n",
       "      <td>11726</td>\n",
       "      <td>446</td>\n",
       "      <td>HONDA</td>\n",
       "      <td>FIT</td>\n",
       "      <td>Hatchback</td>\n",
       "      <td>Yes</td>\n",
       "      <td>Petrol</td>\n",
       "      <td>1.3</td>\n",
       "      <td>91901</td>\n",
       "      <td>4.0</td>\n",
       "      <td>Automatic</td>\n",
       "      <td>Front</td>\n",
       "      <td>Left wheel</td>\n",
       "      <td>Silver</td>\n",
       "      <td>4</td>\n",
       "      <td>10</td>\n",
       "    </tr>\n",
       "  </tbody>\n",
       "</table>\n",
       "</div>"
      ],
      "text/plain": [
       "   Price  Levy Manufacturer    Model   Category Leather interior Fuel type  \\\n",
       "0  13328  1399        LEXUS   RX 450       Jeep              Yes    Hybrid   \n",
       "1  16621  1018    CHEVROLET  Equinox       Jeep               No    Petrol   \n",
       "2   8467     0        HONDA      FIT  Hatchback               No    Petrol   \n",
       "3   3607   862         FORD   Escape       Jeep              Yes    Hybrid   \n",
       "4  11726   446        HONDA      FIT  Hatchback              Yes    Petrol   \n",
       "\n",
       "  Engine volume  Mileage  Cylinders Gear box type Drive wheels  \\\n",
       "0           3.5  186005         6.0     Automatic          4x4   \n",
       "1             3  192000         6.0     Tiptronic          4x4   \n",
       "2           1.3  200000         4.0      Variator        Front   \n",
       "3           2.5  168966         4.0     Automatic          4x4   \n",
       "4           1.3   91901         4.0     Automatic        Front   \n",
       "\n",
       "              Wheel   Color  Airbags  Age  \n",
       "0        Left wheel  Silver       12   14  \n",
       "1        Left wheel   Black        8   13  \n",
       "2  Right-hand drive   Black        2   18  \n",
       "3        Left wheel   White        0   13  \n",
       "4        Left wheel  Silver        4   10  "
      ]
     },
     "execution_count": 31,
     "metadata": {},
     "output_type": "execute_result"
    }
   ],
   "source": [
    "data.head()"
   ]
  },
  {
   "cell_type": "code",
   "execution_count": 32,
   "id": "df96b3be-0e01-4978-971c-df6f2d07fd9c",
   "metadata": {},
   "outputs": [
    {
     "data": {
      "text/plain": [
       "array(['3.5', '3', '1.3', '2.5', '2', '1.8', '2.4', '4', '1.6', '3.3',\n",
       "       '2.0 Turbo', '2.2 Turbo', '4.7', '1.5', '4.4', '3.0 Turbo',\n",
       "       '1.4 Turbo', '3.6', '2.3', '1.5 Turbo', '1.6 Turbo', '2.2',\n",
       "       '2.3 Turbo', '1.4', '5.5', '2.8 Turbo', '3.2', '3.8', '4.6', '1.2',\n",
       "       '5', '1.7', '2.9', '0.5', '1.8 Turbo', '2.4 Turbo', '3.5 Turbo',\n",
       "       '1.9', '2.7', '4.8', '5.3', '0.4', '2.8', '3.2 Turbo', '1.1',\n",
       "       '2.1', '0.7', '5.4', '1.3 Turbo', '3.7', '1', '2.5 Turbo', '2.6',\n",
       "       '1.9 Turbo', '4.4 Turbo', '4.7 Turbo', '0.8', '0.2 Turbo', '5.7',\n",
       "       '4.8 Turbo', '4.6 Turbo', '6.7', '6.2', '1.2 Turbo', '3.4',\n",
       "       '1.7 Turbo', '6.3 Turbo', '2.7 Turbo', '4.3', '4.2', '2.9 Turbo',\n",
       "       '0', '4.0 Turbo', '20', '3.6 Turbo', '0.3', '3.7 Turbo', '5.9',\n",
       "       '5.5 Turbo', '0.2', '2.1 Turbo', '5.6', '6', '0.7 Turbo',\n",
       "       '0.6 Turbo', '6.8', '4.5', '0.6', '7.3', '0.1', '1.0 Turbo', '6.3',\n",
       "       '4.5 Turbo', '0.8 Turbo', '4.2 Turbo', '3.1', '5.0 Turbo', '6.4',\n",
       "       '3.9', '5.7 Turbo', '0.9', '0.4 Turbo', '5.4 Turbo', '0.3 Turbo',\n",
       "       '5.2', '5.8', '1.1 Turbo'], dtype=object)"
      ]
     },
     "execution_count": 32,
     "metadata": {},
     "output_type": "execute_result"
    }
   ],
   "source": [
    "data['Engine volume'].unique()"
   ]
  },
  {
   "cell_type": "code",
   "execution_count": 33,
   "id": "078b6075-a65d-48a9-8265-e60e183ebe17",
   "metadata": {},
   "outputs": [],
   "source": [
    "data['Engine volume']=data['Engine volume'].str.replace('Turbo','')"
   ]
  },
  {
   "cell_type": "code",
   "execution_count": 34,
   "id": "c68e7534-677c-496f-9764-8bf859611ca3",
   "metadata": {},
   "outputs": [],
   "source": [
    "data['Engine volume']=data['Engine volume'].astype(float)"
   ]
  },
  {
   "cell_type": "code",
   "execution_count": 35,
   "id": "5b44a4a3-d2ec-4c75-9f1e-7b0c5a0890bd",
   "metadata": {},
   "outputs": [
    {
     "name": "stdout",
     "output_type": "stream",
     "text": [
      "<class 'pandas.core.frame.DataFrame'>\n",
      "Index: 18924 entries, 0 to 19236\n",
      "Data columns (total 16 columns):\n",
      " #   Column            Non-Null Count  Dtype  \n",
      "---  ------            --------------  -----  \n",
      " 0   Price             18924 non-null  int64  \n",
      " 1   Levy              18924 non-null  int32  \n",
      " 2   Manufacturer      18924 non-null  object \n",
      " 3   Model             18924 non-null  object \n",
      " 4   Category          18924 non-null  object \n",
      " 5   Leather interior  18924 non-null  object \n",
      " 6   Fuel type         18924 non-null  object \n",
      " 7   Engine volume     18924 non-null  float64\n",
      " 8   Mileage           18924 non-null  object \n",
      " 9   Cylinders         18924 non-null  float64\n",
      " 10  Gear box type     18924 non-null  object \n",
      " 11  Drive wheels      18924 non-null  object \n",
      " 12  Wheel             18924 non-null  object \n",
      " 13  Color             18924 non-null  object \n",
      " 14  Airbags           18924 non-null  int64  \n",
      " 15  Age               18924 non-null  int64  \n",
      "dtypes: float64(2), int32(1), int64(3), object(10)\n",
      "memory usage: 2.4+ MB\n"
     ]
    }
   ],
   "source": [
    "data.info()"
   ]
  },
  {
   "cell_type": "markdown",
   "id": "cca20d4b-1dd0-4a6e-9199-25f8ad8cd495",
   "metadata": {},
   "source": [
    "# 4- Detect Outliers "
   ]
  },
  {
   "cell_type": "code",
   "execution_count": 36,
   "id": "9fd422ed-21c1-4f06-b865-d7ddc3e05cae",
   "metadata": {},
   "outputs": [
    {
     "data": {
      "text/plain": [
       "count    18924.000000\n",
       "mean        13.085764\n",
       "std          5.665749\n",
       "min          4.000000\n",
       "25%          9.000000\n",
       "50%         12.000000\n",
       "75%         15.000000\n",
       "max         85.000000\n",
       "Name: Age, dtype: float64"
      ]
     },
     "execution_count": 36,
     "metadata": {},
     "output_type": "execute_result"
    }
   ],
   "source": [
    "data['Age'].describe() "
   ]
  },
  {
   "cell_type": "code",
   "execution_count": 37,
   "id": "3b2bf042-5987-467f-8ee3-54ed593f8e72",
   "metadata": {},
   "outputs": [
    {
     "data": {
      "text/plain": [
       "count    1.892400e+04\n",
       "mean     1.858744e+04\n",
       "std      1.921356e+05\n",
       "min      1.000000e+00\n",
       "25%      5.331000e+03\n",
       "50%      1.317200e+04\n",
       "75%      2.206300e+04\n",
       "max      2.630750e+07\n",
       "Name: Price, dtype: float64"
      ]
     },
     "execution_count": 37,
     "metadata": {},
     "output_type": "execute_result"
    }
   ],
   "source": [
    "data['Price'].describe()"
   ]
  },
  {
   "cell_type": "code",
   "execution_count": 38,
   "id": "79c4d291-219e-4e3b-b0fd-7e14f56bcf78",
   "metadata": {},
   "outputs": [],
   "source": [
    "data_numeric = data.select_dtypes(exclude='object')\n",
    "for col in data_numeric:\n",
    "    q1=data[col].quantile(0.25)\n",
    "    q3=data[col].quantile(0.75)\n",
    "    iqr=q3-q1\n",
    "    low=q1-1.5*iqr\n",
    "    high=q3+1.5*iqr\n",
    "    outliers=((data_numeric[col]>high)|(data_numeric[col]<low)).sum()\n",
    "    if outliers> 0:\n",
    "        data=data.loc[(data[col]>=low) & (data[col]<=high)]\n",
    "        \n",
    "    "
   ]
  },
  {
   "cell_type": "code",
   "execution_count": 39,
   "id": "26b91379-0d35-47b6-9aa3-730f06c035a7",
   "metadata": {},
   "outputs": [
    {
     "data": {
      "text/plain": [
       "count    12240.000000\n",
       "mean        11.551225\n",
       "std          3.436964\n",
       "min          4.000000\n",
       "25%          9.000000\n",
       "50%         11.000000\n",
       "75%         13.000000\n",
       "max         21.000000\n",
       "Name: Age, dtype: float64"
      ]
     },
     "execution_count": 39,
     "metadata": {},
     "output_type": "execute_result"
    }
   ],
   "source": [
    "data['Age'].describe() "
   ]
  },
  {
   "cell_type": "markdown",
   "id": "e4efe454-e4c9-4dfc-9986-de23b07b462d",
   "metadata": {},
   "source": [
    "# 5- Trnsform Data \n"
   ]
  },
  {
   "cell_type": "code",
   "execution_count": 40,
   "id": "03ae84f9-2fb4-4b86-9ec4-851bc2a06902",
   "metadata": {},
   "outputs": [
    {
     "data": {
      "text/plain": [
       "array(['HONDA', 'FORD', 'HYUNDAI', 'TOYOTA', 'MERCEDES-BENZ',\n",
       "       'VOLKSWAGEN', 'RENAULT', 'NISSAN', 'CHEVROLET', 'SUBARU', 'DAEWOO',\n",
       "       'BMW', 'KIA', 'MITSUBISHI', 'SSANGYONG', 'MAZDA', 'GMC', 'FIAT',\n",
       "       'SUZUKI', 'LEXUS', 'OPEL', 'AUDI', 'CITROEN', 'MINI', 'DODGE',\n",
       "       'LAND ROVER', 'JEEP', 'ACURA', 'VAZ', 'JAGUAR', 'SKODA',\n",
       "       'CHRYSLER', 'LINCOLN', 'BUICK', 'PEUGEOT', 'სხვა', 'HAVAL',\n",
       "       'CADILLAC', 'SCION', 'INFINITI', 'PORSCHE', 'LANCIA', 'MERCURY',\n",
       "       'SAAB', 'VOLVO', 'ALFA ROMEO', 'SATURN', 'GAZ'], dtype=object)"
      ]
     },
     "execution_count": 40,
     "metadata": {},
     "output_type": "execute_result"
    }
   ],
   "source": [
    "data['Manufacturer'].unique()\n"
   ]
  },
  {
   "cell_type": "code",
   "execution_count": 41,
   "id": "0c03a1cf-61b9-457d-b1e4-7b59e56427db",
   "metadata": {},
   "outputs": [
    {
     "data": {
      "text/plain": [
       "array(['FIT', 'Escape', 'Santa FE', 'Prius', 'Sonata', 'Camry', 'CHR',\n",
       "       'Elantra', 'E 220', 'H1', 'Jetta', 'Prius C', 'Aqua',\n",
       "       'Escape Hybrid', 'Civic', 'Megane 1.5CDI', 'E 300', 'Juke',\n",
       "       'Cruze LT', 'Fusion', 'VOXY', 'A 160', 'Tucson', 'Captiva',\n",
       "       'Mustang', 'Yaris', 'Cruze', 'Orlando', 'Forester', 'Lacetti',\n",
       "       '428 Sport Line', 'Genesis', 'Sprinter', 'Focus SE', 'Picanto',\n",
       "       'Airtrek', 'Korando', '616', 'Serena', 'RAV 4', 'Volt', 'TERRAIN',\n",
       "       'Hr-v EX', '500', 'Elantra sport limited', 'A 170', 'REXTON',\n",
       "       'Carnival grand', '1000', 'C 250', 'Vitz funkargo', 'Transit',\n",
       "       'Vaneo', 'Tacoma', 'Explorer', 'I30', 'Grand Vitara', 'CT 200h',\n",
       "       'Veloster', 'RAV 4 XLE Sport', 'Sienta', 'Passat',\n",
       "       'Avalon LIMITED', 'Cerato K3', 'CX-7', 'Astra G', 'Corolla',\n",
       "       'Rogue', 'GLA 250', 'Sharan', 'Tiida', 'C 300', 'Actyon', 'S 350',\n",
       "       'RAV 4 Le', 'E 350 ამგ', 'Cr-v', 'Avalon', 'ML 250', 'Colt Lancer',\n",
       "       'Outlander', 'Camry SE', 'Malibu', 'Insight', 'Altima', 'Vito',\n",
       "       'GTI', 'Colt', 'C-MAX', 'RAV 4 s p o r t', 'Fusion Titanium',\n",
       "       'Aveo', 'Aqua S', 'Optima', 'Shuttle', 'Land Cruiser Prado',\n",
       "       'Equinox', 'Vitz', 'A4 premium', 'Kizashi', '328', 'Element', 'C1',\n",
       "       'X-Trail', 'RIO', 'Astra', 'Corolla IM', 'CLK 240', 'Fiesta',\n",
       "       'Cooper', 'Combo', 'A4', 'Corolla verso', 'Q5', 'Odyssey', 'L 200',\n",
       "       'Insight EX', 'Focus', 'Matiz', 'Mazda 3', 'Scenic', '320',\n",
       "       'NX 200', 'Spark', 'March', 'HS 250h Hybrid', 'Sonata SPORT',\n",
       "       'Elantra SE', 'Auris', 'ES 350', 'SOUL', '500C Lounge',\n",
       "       'Cruze ltz', 'Countryman', 'Corolla 04', 'Rogue SL', 'A6', 'Q3',\n",
       "       'Accent', 'Grandeur', 'Hr-v', 'Dart Limited', 'CX-9', 'Accord',\n",
       "       'Fusion TITANIUM', 'Freelander', 'Ist', 'Compass',\n",
       "       'Transit Connect', 'XV', 'Aqua g soft leather sele', 'Meriva',\n",
       "       'Prius V', 'Sorento', '114', 'ES 300', 'Sportage', 'Versa',\n",
       "       'FIT Sport', 'Carnival', 'Step Wagon Pada', 'Dart GT 2.4',\n",
       "       'Stream', 'TLX', 'A3 PREMIUM', 'kona', 'IS 250', 'Cruze LTZ',\n",
       "       'ISIS', '1300', 'Transit 350T', 'Outlander 2.0', 'Polo',\n",
       "       'Cherokee', 'Zafira', '2107', 'XF', 'Camry se', 'Kyron', 'Octavia',\n",
       "       'Mazda 3 SPORT', 'Ipsum', 'IX35', 'Tiida 2008', 'Sentra',\n",
       "       'Frontier', 'Smart', 'A 190', 'Jetta სპორტ', 'Corolla LE', '428',\n",
       "       'X5', 'Transit Connect ბენზინი', 'Elantra limited', 'Camry S',\n",
       "       'FIT SPORT', 'Ipsum S', 'Cooper S Cabrio R56', 'Mx-5', 'Crafter',\n",
       "       'A 140', 'Cadenza', 'Sonata 2.0t', 'C 180', 'Sonata S', 'B 170',\n",
       "       'Cerato', 'Legacy', 'PT Cruiser', 'Sonata blue edition', 'C 200',\n",
       "       'Sprinter VAN', 'Vectra', 'Civic EX', 'Fuga', 'Viano', 'MKZ',\n",
       "       'Cruze strocna', 'Countryman S', 'Tiida AXIS', 'Swift',\n",
       "       'Volt premier', 'HS 250h', 'CT 200h F-sport', 'Outback', 'Atenza',\n",
       "       'Tiguan', 'Camry Se', 'FIT Hbrid', 'Verso', 'Golf 6', '120',\n",
       "       'Liana', 'Pajero', 'Alphard', 'ColtPlus', 'A4 S line',\n",
       "       'Sonata hybrid', 'Century', 'Golf', 'Grandis', 'FIT S', 'Venza',\n",
       "       'RVR', 'XV LIMITED', 'Premacy', 'Corolla S', 'Demio', 'Jetta GLI',\n",
       "       'Note', 'CX-5', 'C 220', 'E 200', 'Taurus', 'Fusion phev',\n",
       "       '500 Abarth', 'CLA 250', '206', 'A4 premium plius', 'Mazda 6',\n",
       "       'Fred', 'Escape Titanium', 'IVECO DAYLY', 'Camry SPORT', 'Impala',\n",
       "       'Impreza', 'Hilux', 'Cruze Premier', 'Clio', 'Outlander SPORT',\n",
       "       '500L LONG', 'Ranger', '200', 'FIT HIBRID', 'H6', 'CC R line',\n",
       "       'Mazda 6 TOURING', 'Caliber', 'C 230', '320 i', 'Gentra',\n",
       "       'CC 2.0 T', 'BRZ', 'SX4', '1500', '500 Sport', 'Golf TDI',\n",
       "       'Camry sport', 'Highlander', 'Demio evropuli', 'X3', 'Equinox LT',\n",
       "       'Outlander SE', 'Passat R-line', 'Camry XLE', 'Eunos 500', 'A5',\n",
       "       'Allroad', 'Forester SH', 'Outlander Sport', 'Serena Serea', 'MPV',\n",
       "       'Cooper S Cabrio', 'Transit S', 'C-MAX HYBRID', 'Transit 135',\n",
       "       'Caddy', 'Caldina', 'Aqua s', 'Elantra LIMITED', 'Astra H',\n",
       "       'NEW Beetle', 'Megane GT Line', 'X1', 'Elantra GT', 'Cruze RS',\n",
       "       'MKZ hybrid', 'CC', 'Prius C Navigation', 'Corsa', 'Sonata HYBRID',\n",
       "       'Prius V ALPINA', 'RIO lx', 'Jetta SEL', 'Avella',\n",
       "       'Focus TITANIUM', 'Acadia', 'Forte', 'Accord CL9 type S',\n",
       "       '500 turbo', 'TSX', 'Aqua L paketi', 'Santa FE Ultimate',\n",
       "       'Sprinter 311', 'Outlander sport', 'Vito 2.2', '535 Twinturbo',\n",
       "       'Avensis', 'Sonata Hibrid', 'Prius s', 'RIO lX', 'Prius BLUG-IN',\n",
       "       'Presage RIDER', 'Yaris IA', '528', 'Micra', 'Getz', '500C',\n",
       "       'Encore', 'Megane', 'FIT HYBRYD', 'Elantra gt', 'Focus ST',\n",
       "       'Camry sporti', 'Sonic', 'Cruze LS', 'Camry HYBRID', 'CTS',\n",
       "       'Lancer', 'Camry LE', '530', 'CT 200h F SPORT', 'Laguna',\n",
       "       'Elantra Limited', 'S-max', 'RC F', '320 2.0', '328 DIZEL',\n",
       "       'Impreza G4', 'FIT fit', 'Passat SE', 'iA isti',\n",
       "       'Elantra GLS / LIMITED', 'Avalon limited', 'Elysion', 'Touran',\n",
       "       'Corsa Corsa', 'Vectra C', 'Wrangler', 'E 220 cdi', 'Countryman s',\n",
       "       'Demio 12', '500 46 ml', 'Wish', 'Vitz RS', '500 Lounge', 'Agila',\n",
       "       'Ioniq', 'Crosstrek', 'Cruze sonic', 'Nubira', 'Axela', 'Scirocco',\n",
       "       'A3', 'Renegade', 'GONOW', 'Cruze L T', 'C-MAX SEL', 'Aqua G klas',\n",
       "       'Fusion SE', '328 sulev', 'Sorento SX', 'Corolla Im', 'Kangoo',\n",
       "       'Aerio SX', 'Murano', 'Highlander 2.4 lit', 'Sonata LPG',\n",
       "       'Camry Hybrid', 'Kizashi sporti', 'X1 28Xdrive', 'Malibu LT',\n",
       "       'Focus Fokusi', 'IS 200', 'tC', 'Prius ფლაგინი', 'CX-5 Touring',\n",
       "       'Edix', 'Veloster R-spec', 'Transit Custom', 'Zafira B',\n",
       "       'Prius 1.5I', 'Civic Ferio', 'Jetta TDI', 'Optima ECO', '528 i',\n",
       "       'Sonata Hybrid', 'Verisa', 'Kicks', 'X1 X-Drive', 'Yaris iA',\n",
       "       'Focus Flexfuel', 'Aqua G', 'Swift Sport', 'Patriot', 'Duster',\n",
       "       '2121 (Niva)', 'Tourneo Connect', 'Transit Connect Prastoi',\n",
       "       'FX35', 'Verisa 2007', 'Camry sport se', 'Highlander LIMITED',\n",
       "       'CLK 230', 'Camry XV50', 'Transit T330', 'Prius ჰიბრიდი',\n",
       "       'Escape SE', 'Combo TDI', 'Aqua HIBRID', 'Escape მერკური მერინერი',\n",
       "       'macan', 'Niro', 'E 320', 'RAV 4 SPORT', 'Vectra c', 'CR-Z',\n",
       "       'Malibu eco', '318', 'EcoSport SE', 'FIT Premiym', 'Legacy Bl5',\n",
       "       'HHR', 'Prius TSS LIMITED', 'Cooper r50', 'C8', 'Elantra Gt',\n",
       "       'A3 4X4', '100 NX', 'Focus Titanium', 'Prius S', 'Vitz i.ll',\n",
       "       'RAV 4 XLE', 'Musa', 'Pathfinder', 'C 250 luxury', 'Passat sport',\n",
       "       'E 320 4×4', 'Jetta se', '500L', 'X1 4X4', '207', 'Focus se',\n",
       "       'FIT RS MODELI', 'C 250 1.8 ტურბო', 'Prius C 2013', 'C4',\n",
       "       'Wingroad', 'Kicks SR', 'Caliber sxt', '4Runner', 'RX 350',\n",
       "       'Cefiro', 'CR-Z ჰიბრიდი', 'C-MAX PREMIUM', 'Forester XT',\n",
       "       'Pajero IO', 'Cruze Cruze', 'Tucson Limited', 'Ignis',\n",
       "       'Corolla ECO', 'Cayman', 'Tiida 15 M', 'Dart', 'Demio mazda2',\n",
       "       'A4 B6', 'Octavia Scout', 'Mariner', '500 sport', 'Jetta SE',\n",
       "       'FIT RS', '500 s', 'C5', 'C 230 kompresor', 'Grand Cherokee',\n",
       "       '09-Mar', 'Hiace', 'Citan', 'ColtPlus Plus', 'Passat RLAINI',\n",
       "       'E 350', 'Outlander სპორტ', 'Countryman S turbo', 'Prius V HYBRID',\n",
       "       'Malibu Hybrid', 'Camry sel', 'Elantra 2014', 'Belta',\n",
       "       'Transit Tourneo', 'Trax', 'Azera', 'C-MAX SE', 'Estima',\n",
       "       'Demio Sport', 'IS 250 TURBO', 'CX-3', 'Volt Full Packet',\n",
       "       'Fred HIBRIDI', 'Forester 4x4', 'Juke Nismo RS', 'Lancer GT',\n",
       "       'ATS', 'Prius 9', 'March Rafeet', '318 რესტაილინგი', 'Juke Nismo',\n",
       "       'F-pace', 'Lantra', 'X3 SDRIVE', 'FIT RS MUGEN',\n",
       "       'Forester CrossSport', 'Outback Limited', 'CRX', 'C 250 A.M.G',\n",
       "       'Optima HYBRID', 'E 250', 'Forester cross sport', 'C 250 AMG',\n",
       "       'Avenger', 'Legacy bl5', 'C 180 komp', 'Yaris RS', '118',\n",
       "       'Sportage SX', 'X-Trail NISSAN X TRAIL R', 'Prius prius',\n",
       "       'Range Rover Evoque 2.0', 'Sonata Limited', 'Tucson Se',\n",
       "       'Sprinter 313CDI', 'Captur QM3 Samsung', 'Passat 2.0 tfsi',\n",
       "       'Jetta SPORT', 'Fun Cargo', 'Sonata 2.4L', 'NX 300', 'LATIO',\n",
       "       'CC sport', 'Prius 11', 'Explorer Turbo japan', 'Fusion Bybrid',\n",
       "       'Lupo iaponuri', '118 2,0', 'X-Trail NISMO', 'Lantra LIMITED',\n",
       "       'Veloster Turbo', 'Volt PREMIER', 'Vito 115 CDI', 'Passo',\n",
       "       'Sonata Sport', 'Matrix XR', 'Presage', 'S60', 'Mazda 2',\n",
       "       'Edix FR-v', '159', 'Prius plug-in', 'RAV 4 Dizel', 'Astra j',\n",
       "       'A 200', 'Fabia', 'Prius personna', 'S3', 'Golf 4', '525',\n",
       "       'Fusion 2015', 'Sportage EX', 'Navara', 'Step Wagon', 'FIT Modulo',\n",
       "       'Giulietta', 'RX 450 HYBRID', 'Astra CNG', 'Prius C ჰიბრიდი',\n",
       "       'Noah', 'Mazda 6 Grand touring', 'Sorento EX', 'Camry SPORT PAKET',\n",
       "       'Teana', 'Fusion HIBRID', 'Sprinter 316', 'Mondeo', 'FIT GP-5',\n",
       "       'Golf GTI', 'Kangoo Waggon', 'Legacy B4', 'Ceed', 'Sprinter 314',\n",
       "       '307', '320 Diesel', '500X', 'UP', 'Sonic LT', 'Tucson SE',\n",
       "       'H1 grandstarex', 'Sportage PRESTIGE', 'Superb', 'Mirage',\n",
       "       'Megane 1.9CDI', 'Jetta სასწაფოდ', 'Corvette', 'GLK 250',\n",
       "       'Sprinter 316 CDI', 'Cruze PREMIER', 'Outlander xl',\n",
       "       'FIT \"S\"- PAKETI.', 'Fiesta SE', 'H1 GRAND STAREX', 'Tiida Latio',\n",
       "       'Cr-v LX', 'Sai', '500X Lounge', 'Qashqai Advance CVT',\n",
       "       'Accent SE', 'Countryman sport', 'Sprinter 313', '323', 'Journey',\n",
       "       'ES 300 hybrid', 'FIT ex', 'Mariner Hybrid', 'Vito long115',\n",
       "       'VOXY 2003', 'Vito 113', 'Passat se', 'Ractis', 'Vue',\n",
       "       'Eclipse ES', 'Fusion 1.6', 'Transit ford', 'Carens',\n",
       "       'Elantra 2016', 'Crossroad', 'Veloster TURBO', 'A4 S4',\n",
       "       'Aqua სასწრაფოდ', 'Veloster remix', 'A4 B7', 'Juke nismo',\n",
       "       'Vitara', 'Escape HYBRID', '508', 'Vito 111 CDI', 'xD',\n",
       "       'Passat B5', 'XV HYBRID', 'Elantra LIMITEDI', '328 i', 'C 240',\n",
       "       'Qashqai SPORT', 'Astra GTC 1.9 turbo dies', '400X', 'Jimny',\n",
       "       'C1 C', '3008', 'B 200', 'Vectra H', 'CLA 250 AMG',\n",
       "       'Highlander 2,4', 'PT Cruiser pt cruiser', '807',\n",
       "       'Prius C 80 original', 'Insight LX', 'Patriot 70th anniversary',\n",
       "       'Camaro', 'E 220 CDI', 'Sprinter 315CDI-XL', 'FIT GP-6',\n",
       "       'Octavia SCOUT', 'Jetta sport', 'B 200 Turbo', 'Elantra i30',\n",
       "       'Vanette', 'Prius Plug IN', 'DS 4', 'E-pace',\n",
       "       '520 d xDrive Luxury', 'Mazda 6 Grand Touring', 'M3', 'Hr-v EXL',\n",
       "       'Mark X Zio', '220', 'Aqua sport', 'Almera dci', 'Impreza Sport',\n",
       "       'X4', 'Fusion hybrid', 'Vito 111', '2105', 'Sprinter 308 CDI',\n",
       "       'Sprinter EURO4', 'Yaris SE', '118 M-sport LCI', '250',\n",
       "       'CT 200h 1.8', 'Combo 1700', 'Passat tdi sel', 'B 180',\n",
       "       'Santa FE sport', 'Optima hybrid', 'Sonata sport', 'Vito 115',\n",
       "       'Sonata SE LIMITED', 'Prius 1.8', 'H1 starixs', 'Accent GS',\n",
       "       'Corolla se', 'Mazda 5', 'C 250 AMG-PAKET-1,8', 'Niva',\n",
       "       'B 170 B Class', 'B9 Tribeca', '206 CC', 'Skyline', 'Liberty',\n",
       "       'E 220 211', 'Sonata LIMITED', 'C 250 1.8', 'Megane 1.9 CDI',\n",
       "       'LAFESTA', 'E 220 ELEGANCE', 'Rogue SPORT', 'Regal',\n",
       "       'Prius C hybrid', 'Juke juke', 'FIT Hybrid', 'Juke Juke', 'Galant',\n",
       "       'V50', 'Caliber journey', '407', 'Camry XSE', '500 sport panorama',\n",
       "       'B 170 Edition One', 'Fusion HYBRID', 'Crafter 2,5TDI',\n",
       "       'Volt Premier', 'FIT PREMIUMI', 'Elantra GS', 'Passat SEL',\n",
       "       'Fusion Hybrid', 'Passat tsi-se', 'Caddy cadi', 'Paceman', 'Rx-8',\n",
       "       'Micra <DIESEL>', 'i20', 'Prius plagin', 'Punto', 'Prius 3', 'BB',\n",
       "       'Camry ჰიბრიდი', 'Camry SE HIBRYD', '428 i', 'Juke Turbo', 'i40',\n",
       "       'Versa s', 'Prius Plug in', 'FIT PREMIUM PAKETI', 'Lancer GTS',\n",
       "       'Sienna', 'Juke NISMO', 'Jetta s', 'Cooper CLUBMAN', 'E 200 CGI',\n",
       "       'Golf GOLF 5', 'Integra', 'Impreza WRX/STI LIMITED', 'Corolla 140',\n",
       "       'Cooper S', 'Cruze LT RS', 'Astra A.H', 'Step Wagon RG2 SPADA',\n",
       "       'Legacy b4', 'Jetta Hybrid', 'FIT NAVI PREMIUM', 'Civic Hybrid',\n",
       "       'Jetta 1.4 TURBO', 'Forester L.L.BEAN', 'Sonata SE', 'Fit Aria',\n",
       "       'INSIGNIA', 'Escape escape', '31105', 'Prius C Hybrid',\n",
       "       'Sonata სასწრაფოდ', 'Tiguan SE', '500 SPORT', 'Prius C YARIS IA',\n",
       "       'A 170 Avangard', 'CT 200h F sport', 'Panda', 'Prius C 1.5I',\n",
       "       'Optima ex', 'GL 320', 'Patriot Latitude', 'Kalos', 'A4 Sline',\n",
       "       'Prius V HIBRID', 'C 200 2.0', 'Focus SEL', 'Optima k5',\n",
       "       'Outback 2007', 'Elantra se', 'Fusion HYBRID SE', 'Versa SE',\n",
       "       'Vito Exstralong', 'Vito Extralong', 'FIT LX',\n",
       "       'Every Landy NISSAN SEREN'], dtype=object)"
      ]
     },
     "execution_count": 41,
     "metadata": {},
     "output_type": "execute_result"
    }
   ],
   "source": [
    "\n",
    "data['Model'].unique()"
   ]
  },
  {
   "cell_type": "code",
   "execution_count": 42,
   "id": "7083c4af-9b11-445e-8345-10a0bb7509c4",
   "metadata": {},
   "outputs": [
    {
     "data": {
      "text/plain": [
       "array([   0,  862,  446,  891,  761,  751,  394, 1079,  810,  531,  586,\n",
       "       1249,  583,  707, 1486, 1091,  650,  382,  503, 1017,  629,  781,\n",
       "        530,  640,  765,  777,  779,  934,  769,  645, 1185,  830,  639,\n",
       "       1111,  760,  642, 1095,  966,  473,  988,  687,  836, 1347,  259,\n",
       "        609,  697,  585,  475,  690,  308, 1361, 1077,  584,  831, 1172,\n",
       "        893, 1266,  447,  730,  502,  333, 1325,  247,  738,  481, 1282,\n",
       "       1055,  456,  880,  900,  798, 1277,  442, 1051,  790, 1047,  528,\n",
       "        574,  271, 1481, 1661, 1408, 1090,  595, 1267,  878,  641,  749,\n",
       "        353,  877, 1236, 1141,  397,  784, 1024, 1357,  922, 1438,  753,\n",
       "        638,  490,  431,  565,  833,  489,  986, 1620,  474, 1099,  978,\n",
       "        915, 1268,  924,  770,  649,  551,  607,  993,  800,  971, 1273,\n",
       "       1323, 1845,  694,  463,  419,  345, 1505, 2056,  729,  460,  876,\n",
       "        911,  780,  448, 1148,  834, 1275, 1327,  724,  890,  696, 1705,\n",
       "        505,  789,  518, 1288, 1103,  557,  843,  723,  562,  501, 1202,\n",
       "        691,  418, 1820, 1413,  488,  363, 2108,  521, 1286, 1411, 1528,\n",
       "        919,  627,  706,  400,  889, 1677,  949,  441,  742,  614, 1816,\n",
       "       1324, 1062,  420,  658, 1995, 1187, 1032,  994,  494,  426,  961,\n",
       "       1537, 1829,  764, 1054,  617,  626, 1832, 1016,  746, 1285, 1118,\n",
       "        980, 1228, 1195, 1132,  702, 1974,  944,  663,  364, 1345, 2209,\n",
       "        741, 1211,  695, 1317,  294,  424, 1515, 1552, 1156, 2188,  799,\n",
       "       1502,  552, 1759, 1296,  399, 1292,  526,  686, 1107, 1468, 1246,\n",
       "       1076,  556, 1917, 1346,  732,  692,  579,  421,  362, 1855, 1586,\n",
       "       1356,  681, 1708, 1701,  928,  827,  832,  527, 1341, 1624, 1053,\n",
       "        828, 1516, 1018, 1058, 1503, 1437, 1279, 1110,  279,  666,  748,\n",
       "        644,  683, 1436,  917,  879, 1518, 1588, 1030, 1094,  402, 1399,\n",
       "        874, 1109,  873, 1163, 1991, 1011, 1673,  930, 1834,  965,  462,\n",
       "        605, 2054, 1272,  750,  524, 1659,  676,  612,  328, 1104, 1426,\n",
       "       1675, 1750,  623,  822,  867, 1031, 1036, 1993,  792,  636,  637,\n",
       "       1662, 2123,  870, 1836, 1198, 1039, 1590,  875, 1493])"
      ]
     },
     "execution_count": 42,
     "metadata": {},
     "output_type": "execute_result"
    }
   ],
   "source": [
    "data.Levy.unique()"
   ]
  },
  {
   "cell_type": "code",
   "execution_count": 43,
   "id": "a3e19c9f-beb2-4961-9a16-3596dfca25b6",
   "metadata": {},
   "outputs": [
    {
     "data": {
      "text/plain": [
       "array(['Hatchback', 'Jeep', 'Sedan', 'Universal', 'Minivan', 'Cabriolet',\n",
       "       'Coupe', 'Microbus', 'Goods wagon', 'Pickup'], dtype=object)"
      ]
     },
     "execution_count": 43,
     "metadata": {},
     "output_type": "execute_result"
    }
   ],
   "source": [
    "data.Category.unique()"
   ]
  },
  {
   "cell_type": "code",
   "execution_count": null,
   "id": "b2bb2b84-8f75-40e6-ab3a-4b3987ea474b",
   "metadata": {},
   "outputs": [],
   "source": []
  },
  {
   "cell_type": "code",
   "execution_count": null,
   "id": "03affb03-fb50-4a49-af5e-aebce87ed380",
   "metadata": {},
   "outputs": [],
   "source": []
  },
  {
   "cell_type": "code",
   "execution_count": null,
   "id": "4596d0d8-fb12-4fa1-8528-d3e32a95a400",
   "metadata": {},
   "outputs": [],
   "source": []
  },
  {
   "cell_type": "code",
   "execution_count": 44,
   "id": "fce98138-71c3-4e0b-896f-b067ff83aeb5",
   "metadata": {},
   "outputs": [
    {
     "data": {
      "text/plain": [
       "array(['No', 'Yes'], dtype=object)"
      ]
     },
     "execution_count": 44,
     "metadata": {},
     "output_type": "execute_result"
    }
   ],
   "source": [
    "data['Leather interior'].unique()\n"
   ]
  },
  {
   "cell_type": "code",
   "execution_count": 45,
   "id": "a233c84d-e5f4-4b49-9523-2c90bbff5fe1",
   "metadata": {},
   "outputs": [
    {
     "data": {
      "text/plain": [
       "array(['Petrol', 'Hybrid', 'Diesel', 'Plug-in Hybrid', 'LPG', 'CNG'],\n",
       "      dtype=object)"
      ]
     },
     "execution_count": 45,
     "metadata": {},
     "output_type": "execute_result"
    }
   ],
   "source": [
    "data['Fuel type'].unique()\n"
   ]
  },
  {
   "cell_type": "code",
   "execution_count": 46,
   "id": "1b1d8448-70f7-42f4-993a-b44f0cc918df",
   "metadata": {},
   "outputs": [
    {
     "data": {
      "text/plain": [
       "array(['200000 ', '168966 ', '91901 ', ..., '140607 ', '307325 ',\n",
       "       '186923 '], dtype=object)"
      ]
     },
     "execution_count": 46,
     "metadata": {},
     "output_type": "execute_result"
    }
   ],
   "source": [
    "data.Mileage.unique()\n"
   ]
  },
  {
   "cell_type": "code",
   "execution_count": 47,
   "id": "f281cb5f-9cf4-4fcd-8c8d-4bbf5c6cf3d8",
   "metadata": {},
   "outputs": [
    {
     "data": {
      "text/plain": [
       "array(['Variator', 'Automatic', 'Tiptronic', 'Manual'], dtype=object)"
      ]
     },
     "execution_count": 47,
     "metadata": {},
     "output_type": "execute_result"
    }
   ],
   "source": [
    "data['Gear box type'].unique()\n"
   ]
  },
  {
   "cell_type": "code",
   "execution_count": 48,
   "id": "76f63f6c-8543-4e75-a751-20115c3264fb",
   "metadata": {},
   "outputs": [
    {
     "data": {
      "text/plain": [
       "array(['Front', '4x4', 'Rear'], dtype=object)"
      ]
     },
     "execution_count": 48,
     "metadata": {},
     "output_type": "execute_result"
    }
   ],
   "source": [
    "data['Drive wheels'].unique()\n"
   ]
  },
  {
   "cell_type": "code",
   "execution_count": null,
   "id": "1340db7a-7698-4c50-8253-8cc35aa9f532",
   "metadata": {},
   "outputs": [],
   "source": []
  },
  {
   "cell_type": "code",
   "execution_count": null,
   "id": "49b5d26b-504d-42ae-bb0f-32045ae830f9",
   "metadata": {},
   "outputs": [],
   "source": []
  },
  {
   "cell_type": "code",
   "execution_count": 49,
   "id": "552d35c2-1428-44e6-a855-96d83305fd45",
   "metadata": {},
   "outputs": [
    {
     "data": {
      "text/plain": [
       "array(['Right-hand drive', 'Left wheel'], dtype=object)"
      ]
     },
     "execution_count": 49,
     "metadata": {},
     "output_type": "execute_result"
    }
   ],
   "source": [
    "data.Wheel.unique()\n"
   ]
  },
  {
   "cell_type": "code",
   "execution_count": 50,
   "id": "757c7a22-c3c9-4cbc-99bc-2d4e01dc43a5",
   "metadata": {},
   "outputs": [
    {
     "data": {
      "text/plain": [
       "array(['200000 ', '168966 ', '91901 ', ..., '140607 ', '307325 ',\n",
       "       '186923 '], dtype=object)"
      ]
     },
     "execution_count": 50,
     "metadata": {},
     "output_type": "execute_result"
    }
   ],
   "source": [
    "data.Mileage.unique()\n"
   ]
  },
  {
   "cell_type": "code",
   "execution_count": 51,
   "id": "30f1bc24-be7e-4a0d-aab6-ed062eba39dd",
   "metadata": {},
   "outputs": [
    {
     "data": {
      "text/plain": [
       "array(['Black', 'White', 'Silver', 'Grey', 'Blue', 'Sky blue', 'Red',\n",
       "       'Orange', 'Green', 'Yellow', 'Brown', 'Golden', 'Beige',\n",
       "       'Carnelian red', 'Purple', 'Pink'], dtype=object)"
      ]
     },
     "execution_count": 51,
     "metadata": {},
     "output_type": "execute_result"
    }
   ],
   "source": [
    "data.Color.unique()\n"
   ]
  },
  {
   "cell_type": "code",
   "execution_count": 52,
   "id": "b74f4a10-300a-4d9c-9996-a1de579a25be",
   "metadata": {},
   "outputs": [
    {
     "data": {
      "text/plain": [
       "array([   0,  862,  446,  891,  761,  751,  394, 1079,  810,  531,  586,\n",
       "       1249,  583,  707, 1486, 1091,  650,  382,  503, 1017,  629,  781,\n",
       "        530,  640,  765,  777,  779,  934,  769,  645, 1185,  830,  639,\n",
       "       1111,  760,  642, 1095,  966,  473,  988,  687,  836, 1347,  259,\n",
       "        609,  697,  585,  475,  690,  308, 1361, 1077,  584,  831, 1172,\n",
       "        893, 1266,  447,  730,  502,  333, 1325,  247,  738,  481, 1282,\n",
       "       1055,  456,  880,  900,  798, 1277,  442, 1051,  790, 1047,  528,\n",
       "        574,  271, 1481, 1661, 1408, 1090,  595, 1267,  878,  641,  749,\n",
       "        353,  877, 1236, 1141,  397,  784, 1024, 1357,  922, 1438,  753,\n",
       "        638,  490,  431,  565,  833,  489,  986, 1620,  474, 1099,  978,\n",
       "        915, 1268,  924,  770,  649,  551,  607,  993,  800,  971, 1273,\n",
       "       1323, 1845,  694,  463,  419,  345, 1505, 2056,  729,  460,  876,\n",
       "        911,  780,  448, 1148,  834, 1275, 1327,  724,  890,  696, 1705,\n",
       "        505,  789,  518, 1288, 1103,  557,  843,  723,  562,  501, 1202,\n",
       "        691,  418, 1820, 1413,  488,  363, 2108,  521, 1286, 1411, 1528,\n",
       "        919,  627,  706,  400,  889, 1677,  949,  441,  742,  614, 1816,\n",
       "       1324, 1062,  420,  658, 1995, 1187, 1032,  994,  494,  426,  961,\n",
       "       1537, 1829,  764, 1054,  617,  626, 1832, 1016,  746, 1285, 1118,\n",
       "        980, 1228, 1195, 1132,  702, 1974,  944,  663,  364, 1345, 2209,\n",
       "        741, 1211,  695, 1317,  294,  424, 1515, 1552, 1156, 2188,  799,\n",
       "       1502,  552, 1759, 1296,  399, 1292,  526,  686, 1107, 1468, 1246,\n",
       "       1076,  556, 1917, 1346,  732,  692,  579,  421,  362, 1855, 1586,\n",
       "       1356,  681, 1708, 1701,  928,  827,  832,  527, 1341, 1624, 1053,\n",
       "        828, 1516, 1018, 1058, 1503, 1437, 1279, 1110,  279,  666,  748,\n",
       "        644,  683, 1436,  917,  879, 1518, 1588, 1030, 1094,  402, 1399,\n",
       "        874, 1109,  873, 1163, 1991, 1011, 1673,  930, 1834,  965,  462,\n",
       "        605, 2054, 1272,  750,  524, 1659,  676,  612,  328, 1104, 1426,\n",
       "       1675, 1750,  623,  822,  867, 1031, 1036, 1993,  792,  636,  637,\n",
       "       1662, 2123,  870, 1836, 1198, 1039, 1590,  875, 1493])"
      ]
     },
     "execution_count": 52,
     "metadata": {},
     "output_type": "execute_result"
    }
   ],
   "source": [
    "data.Levy.unique()\n"
   ]
  },
  {
   "cell_type": "code",
   "execution_count": 53,
   "id": "5283b6d2-248b-4dc1-b789-af1e1e3d6a4d",
   "metadata": {},
   "outputs": [
    {
     "data": {
      "text/plain": [
       "array([1.3, 2.5, 2. , 1.8, 2.4, 1.6, 2.2, 1.5, 1.4, 2.3, 1.2, 1.7, 2.9,\n",
       "       1.9, 2.7, 3.5, 2.1, 1. , 0.8, 3. , 3.3, 2.8, 3.2, 1.1])"
      ]
     },
     "execution_count": 53,
     "metadata": {},
     "output_type": "execute_result"
    }
   ],
   "source": [
    "data['Engine volume'].unique()\n"
   ]
  },
  {
   "cell_type": "code",
   "execution_count": 54,
   "id": "b0939007-92a4-4fbc-8dc4-e44140399fca",
   "metadata": {},
   "outputs": [
    {
     "data": {
      "text/plain": [
       "array([4.])"
      ]
     },
     "execution_count": 54,
     "metadata": {},
     "output_type": "execute_result"
    }
   ],
   "source": [
    "data.Cylinders.unique()\n"
   ]
  },
  {
   "cell_type": "code",
   "execution_count": 55,
   "id": "a585fd51-e690-4fa3-8c1b-356acad7d91d",
   "metadata": {},
   "outputs": [
    {
     "data": {
      "text/plain": [
       "array([ 2,  0,  4, 12,  8, 10,  6,  1, 16,  7,  9,  5, 11,  3, 14, 15, 13],\n",
       "      dtype=int64)"
      ]
     },
     "execution_count": 55,
     "metadata": {},
     "output_type": "execute_result"
    }
   ],
   "source": [
    "data.Airbags.unique()\n"
   ]
  },
  {
   "cell_type": "code",
   "execution_count": 56,
   "id": "9569cd4a-87f1-4af6-9dc1-ef7ebc2e3c2e",
   "metadata": {},
   "outputs": [
    {
     "data": {
      "text/plain": [
       "array([18, 13, 10,  8, 14, 11,  6, 12,  7, 16,  9, 17, 20, 15,  5, 19, 21,\n",
       "        4], dtype=int64)"
      ]
     },
     "execution_count": 56,
     "metadata": {},
     "output_type": "execute_result"
    }
   ],
   "source": [
    "data.Age.unique()"
   ]
  },
  {
   "cell_type": "code",
   "execution_count": 57,
   "id": "63b73122-6e3b-4fbe-b696-b9065504eb43",
   "metadata": {},
   "outputs": [
    {
     "name": "stdout",
     "output_type": "stream",
     "text": [
      "<class 'pandas.core.frame.DataFrame'>\n",
      "Index: 12240 entries, 2 to 19236\n",
      "Data columns (total 16 columns):\n",
      " #   Column            Non-Null Count  Dtype  \n",
      "---  ------            --------------  -----  \n",
      " 0   Manufacturer      12240 non-null  int32  \n",
      " 1   Model             12240 non-null  int32  \n",
      " 2   Category          12240 non-null  int32  \n",
      " 3   Leather interior  12240 non-null  int32  \n",
      " 4   Fuel type         12240 non-null  int32  \n",
      " 5   Mileage           12240 non-null  int32  \n",
      " 6   Gear box type     12240 non-null  int32  \n",
      " 7   Drive wheels      12240 non-null  int32  \n",
      " 8   Wheel             12240 non-null  int32  \n",
      " 9   Color             12240 non-null  int32  \n",
      " 10  Price             12240 non-null  int64  \n",
      " 11  Levy              12240 non-null  int32  \n",
      " 12  Engine volume     12240 non-null  float64\n",
      " 13  Cylinders         12240 non-null  float64\n",
      " 14  Airbags           12240 non-null  int64  \n",
      " 15  Age               12240 non-null  int64  \n",
      "dtypes: float64(2), int32(11), int64(3)\n",
      "memory usage: 1.1 MB\n"
     ]
    }
   ],
   "source": [
    "from sklearn.preprocessing import LabelEncoder\n",
    "\n",
    "# Instantiate LabelEncoder\n",
    "la = LabelEncoder()\n",
    "\n",
    "# Select object and numeric columns separately\n",
    "data_object = data.select_dtypes(include='object')\n",
    "data_numeric = data.select_dtypes(exclude='object')\n",
    "\n",
    "# Encode categorical columns\n",
    "data_object_encoded = data_object.apply(lambda x: la.fit_transform(x))\n",
    "\n",
    "# Concatenate encoded categorical columns and numeric columns\n",
    "data_encoded = pd.concat([data_object_encoded, data_numeric], axis=1)\n",
    "\n",
    "# Check the information of the transformed DataFrame\n",
    "data_encoded.info()\n"
   ]
  },
  {
   "cell_type": "code",
   "execution_count": 58,
   "id": "1604e2ee-cfc2-4231-b448-3eb4ab4501e4",
   "metadata": {},
   "outputs": [],
   "source": [
    "data=data_encoded"
   ]
  },
  {
   "cell_type": "code",
   "execution_count": 59,
   "id": "34c2a8f1-2ce9-416f-8389-b1f73336e4cc",
   "metadata": {},
   "outputs": [
    {
     "name": "stdout",
     "output_type": "stream",
     "text": [
      "<class 'pandas.core.frame.DataFrame'>\n",
      "Index: 12240 entries, 2 to 19236\n",
      "Data columns (total 16 columns):\n",
      " #   Column            Non-Null Count  Dtype  \n",
      "---  ------            --------------  -----  \n",
      " 0   Manufacturer      12240 non-null  int32  \n",
      " 1   Model             12240 non-null  int32  \n",
      " 2   Category          12240 non-null  int32  \n",
      " 3   Leather interior  12240 non-null  int32  \n",
      " 4   Fuel type         12240 non-null  int32  \n",
      " 5   Mileage           12240 non-null  int32  \n",
      " 6   Gear box type     12240 non-null  int32  \n",
      " 7   Drive wheels      12240 non-null  int32  \n",
      " 8   Wheel             12240 non-null  int32  \n",
      " 9   Color             12240 non-null  int32  \n",
      " 10  Price             12240 non-null  int64  \n",
      " 11  Levy              12240 non-null  int32  \n",
      " 12  Engine volume     12240 non-null  float64\n",
      " 13  Cylinders         12240 non-null  float64\n",
      " 14  Airbags           12240 non-null  int64  \n",
      " 15  Age               12240 non-null  int64  \n",
      "dtypes: float64(2), int32(11), int64(3)\n",
      "memory usage: 1.1 MB\n"
     ]
    }
   ],
   "source": [
    "data.info()"
   ]
  },
  {
   "cell_type": "markdown",
   "id": "82d65f20-5f84-4bb5-81d2-670887298a08",
   "metadata": {},
   "source": [
    "# 4-Model \n"
   ]
  },
  {
   "cell_type": "code",
   "execution_count": 3,
   "id": "b9eef9d5-7524-4050-84ba-fd511f604c81",
   "metadata": {},
   "outputs": [],
   "source": [
    "from sklearn.model_selection import train_test_split\n"
   ]
  },
  {
   "cell_type": "code",
   "execution_count": 4,
   "id": "e673a9ee-e170-4bae-8c20-d8faf5a3573f",
   "metadata": {},
   "outputs": [
    {
     "ename": "NameError",
     "evalue": "name 'data' is not defined",
     "output_type": "error",
     "traceback": [
      "\u001b[1;31m---------------------------------------------------------------------------\u001b[0m",
      "\u001b[1;31mNameError\u001b[0m                                 Traceback (most recent call last)",
      "Cell \u001b[1;32mIn[4], line 1\u001b[0m\n\u001b[1;32m----> 1\u001b[0m x\u001b[38;5;241m=\u001b[39m\u001b[43mdata\u001b[49m\u001b[38;5;241m.\u001b[39mdrop(\u001b[38;5;124m'\u001b[39m\u001b[38;5;124mPrice\u001b[39m\u001b[38;5;124m'\u001b[39m,axis\u001b[38;5;241m=\u001b[39m\u001b[38;5;241m1\u001b[39m)\n\u001b[0;32m      2\u001b[0m y\u001b[38;5;241m=\u001b[39mdata[\u001b[38;5;124m'\u001b[39m\u001b[38;5;124mPrice\u001b[39m\u001b[38;5;124m'\u001b[39m]\n",
      "\u001b[1;31mNameError\u001b[0m: name 'data' is not defined"
     ]
    }
   ],
   "source": [
    "x=data.drop('Price',axis=1)\n",
    "y=data['Price']"
   ]
  },
  {
   "cell_type": "code",
   "execution_count": 2,
   "id": "d1cb33f3-0e2e-4df5-8a3c-319a2d4d22e2",
   "metadata": {},
   "outputs": [
    {
     "ename": "NameError",
     "evalue": "name 'train_test_split' is not defined",
     "output_type": "error",
     "traceback": [
      "\u001b[1;31m---------------------------------------------------------------------------\u001b[0m",
      "\u001b[1;31mNameError\u001b[0m                                 Traceback (most recent call last)",
      "Cell \u001b[1;32mIn[2], line 1\u001b[0m\n\u001b[1;32m----> 1\u001b[0m x_train, x_test, y_train, y_test \u001b[38;5;241m=\u001b[39m \u001b[43mtrain_test_split\u001b[49m(x, y, test_size\u001b[38;5;241m=\u001b[39m\u001b[38;5;241m0.2\u001b[39m, random_state\u001b[38;5;241m=\u001b[39m\u001b[38;5;241m42\u001b[39m)\n",
      "\u001b[1;31mNameError\u001b[0m: name 'train_test_split' is not defined"
     ]
    }
   ],
   "source": [
    "x_train, x_test, y_train, y_test = train_test_split(x, y, test_size=0.2, random_state=42)\n"
   ]
  },
  {
   "cell_type": "code",
   "execution_count": 63,
   "id": "22aa7e78-6c04-4216-868e-e144a5f50de1",
   "metadata": {},
   "outputs": [],
   "source": [
    "from sklearn.linear_model import LinearRegression\n",
    "from sklearn.tree import DecisionTreeRegressor  # For regression tasks\n",
    "from sklearn.ensemble import RandomForestRegressor  # For regression tasks\n",
    "from sklearn.ensemble import GradientBoostingRegressor  # For regression tasks\n",
    "import xgboost as xgb  # For classification and regression tasks (install with `pip install xgboost`)\n",
    "from sklearn.svm import SVR  # For regression tasks\n"
   ]
  },
  {
   "cell_type": "code",
   "execution_count": 64,
   "id": "f11b8fde-69d5-4d1d-ace8-b7dbd3d8214c",
   "metadata": {},
   "outputs": [],
   "source": [
    "from sklearn.metrics import r2_score, mean_squared_error\n"
   ]
  },
  {
   "cell_type": "code",
   "execution_count": 65,
   "id": "b350f101-e125-4c19-a0e1-aa5956d58da6",
   "metadata": {},
   "outputs": [],
   "source": [
    "Algorithm=['LinearRegression','DecisionTreeRegressor','RandomForestRegressor','GradientBoostingRegressor','SVR']\n",
    "R2=[]\n",
    "RMSE=[]\n",
    "def Models(Model, x_train, y_train, x_test, y_test):\n",
    "  \"\"\"Evaluates a machine learning model using R-squared and RMSE.\"\"\"\n",
    "\n",
    "  # Train the model\n",
    "  Model.fit(x_train, y_train)\n",
    "\n",
    "  # Make predictions on the test set\n",
    "  pre = Model.predict(x_test)\n",
    "\n",
    "  # Calculate evaluation metrics\n",
    "  re = r2_score(y_test, pre)\n",
    "  R2.append(re)\n",
    "  rmse = np.sqrt(mean_squared_error(y_test, pre))\n",
    "  RMSE.append(rmse)\n",
    "  # Optionally, use model-specific score (if applicable)\n",
    "  score = Model.score(x_test, y_test)  # Might be model-specific\n",
    "\n",
    "  # Print the results\n",
    "  print(f\"R-squared: {re:.4f}\")\n",
    "  print(f\"Root Mean Squared Error (RMSE): {rmse:.4f}\")\n",
    "  if score is not None:\n",
    "      print(f\"Model-specific score: {score:.4f}\")\n",
    "\n"
   ]
  },
  {
   "cell_type": "code",
   "execution_count": 66,
   "id": "8d63b74a-e3d5-4e48-b691-f8248b881958",
   "metadata": {},
   "outputs": [
    {
     "name": "stdout",
     "output_type": "stream",
     "text": [
      "R-squared: 0.2093\n",
      "Root Mean Squared Error (RMSE): 9896.4780\n",
      "Model-specific score: 0.2093\n",
      "R-squared: 0.6427\n",
      "Root Mean Squared Error (RMSE): 6652.4851\n",
      "Model-specific score: 0.6427\n",
      "R-squared: 0.7701\n",
      "Root Mean Squared Error (RMSE): 5335.8499\n",
      "Model-specific score: 0.7701\n",
      "R-squared: 0.6635\n",
      "Root Mean Squared Error (RMSE): 6456.1940\n",
      "Model-specific score: 0.6635\n",
      "R-squared: -0.0036\n",
      "Root Mean Squared Error (RMSE): 11149.3814\n",
      "Model-specific score: -0.0036\n"
     ]
    }
   ],
   "source": [
    "# Create a LinearRegression model\n",
    "Model1 = LinearRegression()\n",
    "Model2 = DecisionTreeRegressor()\n",
    "Model3 = RandomForestRegressor()\n",
    "Model4 = GradientBoostingRegressor()\n",
    "Model5 = SVR()\n",
    "\n",
    "# Evaluate the model using the Models function\n",
    "Models(Model1, x_train, y_train, x_test, y_test)\n",
    "# Evaluate the model using the Models function\n",
    "Models(Model2, x_train, y_train, x_test, y_test)\n",
    "# Evaluate the model using the Models function\n",
    "Models(Model3, x_train, y_train, x_test, y_test)\n",
    "# Evaluate the model using the Models function\n",
    "Models(Model4, x_train, y_train, x_test, y_test)\n",
    "# Evaluate the model using the Models function\n",
    "Models(Model5, x_train, y_train, x_test, y_test)\n"
   ]
  },
  {
   "cell_type": "code",
   "execution_count": 67,
   "id": "08155864-a503-48ac-94ba-00e0f0ed9c25",
   "metadata": {},
   "outputs": [
    {
     "data": {
      "text/html": [
       "<div>\n",
       "<style scoped>\n",
       "    .dataframe tbody tr th:only-of-type {\n",
       "        vertical-align: middle;\n",
       "    }\n",
       "\n",
       "    .dataframe tbody tr th {\n",
       "        vertical-align: top;\n",
       "    }\n",
       "\n",
       "    .dataframe thead th {\n",
       "        text-align: right;\n",
       "    }\n",
       "</style>\n",
       "<table border=\"1\" class=\"dataframe\">\n",
       "  <thead>\n",
       "    <tr style=\"text-align: right;\">\n",
       "      <th></th>\n",
       "      <th>Algorithm</th>\n",
       "      <th>R2_Score</th>\n",
       "      <th>RMSE</th>\n",
       "    </tr>\n",
       "  </thead>\n",
       "  <tbody>\n",
       "    <tr>\n",
       "      <th>0</th>\n",
       "      <td>LinearRegression</td>\n",
       "      <td>0.209298</td>\n",
       "      <td>9896.477993</td>\n",
       "    </tr>\n",
       "    <tr>\n",
       "      <th>1</th>\n",
       "      <td>DecisionTreeRegressor</td>\n",
       "      <td>0.642711</td>\n",
       "      <td>6652.485146</td>\n",
       "    </tr>\n",
       "    <tr>\n",
       "      <th>2</th>\n",
       "      <td>RandomForestRegressor</td>\n",
       "      <td>0.770142</td>\n",
       "      <td>5335.849886</td>\n",
       "    </tr>\n",
       "    <tr>\n",
       "      <th>3</th>\n",
       "      <td>GradientBoostingRegressor</td>\n",
       "      <td>0.663485</td>\n",
       "      <td>6456.193966</td>\n",
       "    </tr>\n",
       "    <tr>\n",
       "      <th>4</th>\n",
       "      <td>SVR</td>\n",
       "      <td>-0.003583</td>\n",
       "      <td>11149.381387</td>\n",
       "    </tr>\n",
       "  </tbody>\n",
       "</table>\n",
       "</div>"
      ],
      "text/plain": [
       "                   Algorithm  R2_Score          RMSE\n",
       "0           LinearRegression  0.209298   9896.477993\n",
       "1      DecisionTreeRegressor  0.642711   6652.485146\n",
       "2      RandomForestRegressor  0.770142   5335.849886\n",
       "3  GradientBoostingRegressor  0.663485   6456.193966\n",
       "4                        SVR -0.003583  11149.381387"
      ]
     },
     "execution_count": 67,
     "metadata": {},
     "output_type": "execute_result"
    }
   ],
   "source": [
    "df=pd.DataFrame({'Algorithm':Algorithm,'R2_Score':R2,'RMSE':RMSE})\n",
    "df"
   ]
  },
  {
   "cell_type": "code",
   "execution_count": 68,
   "id": "cb484758-e025-49b5-af76-12715d86b7d0",
   "metadata": {},
   "outputs": [
    {
     "data": {
      "image/png": "[encoded data removed]",
      "text/plain": [
       "<Figure size 1200x600 with 1 Axes>"
      ]
     },
     "metadata": {},
     "output_type": "display_data"
    }
   ],
   "source": [
    "\n",
    "algorithms = df['Algorithm']\n",
    "rmse_values = df['RMSE']\n",
    "fig, ax = plt.subplots(figsize=(12, 6))  \n",
    "ax.plot(algorithms, rmse_values, label='RMSE', color='red', marker='o') \n",
    "ax.set_title('RMSE of Different Algorithms')\n",
    "ax.set_xlabel('Algorithms')\n",
    "ax.set_ylabel('RMSE')\n",
    "\n",
    "# Add a legend\n",
    "ax.legend()\n",
    "\n",
    "# Display the plot\n",
    "plt.show()"
   ]
  },
  {
   "cell_type": "code",
   "execution_count": 69,
   "id": "97e20243-4bff-4cbe-99fb-ca57b5eb8d28",
   "metadata": {},
   "outputs": [
    {
     "data": {
      "image/png": "[encoded data removed]",
      "text/plain": [
       "<Figure size 1200x600 with 1 Axes>"
      ]
     },
     "metadata": {},
     "output_type": "display_data"
    }
   ],
   "source": [
    "algorithms = df['Algorithm']\n",
    "rmse_values = df['RMSE']\n",
    "fig, ax = plt.subplots(figsize=(12, 6))  \n",
    "ax.plot(algorithms, rmse_values, label='R2', color='blue', marker='o') \n",
    "ax.set_title('RMSE of Different Algorithms')\n",
    "ax.set_xlabel('Algorithms')\n",
    "ax.set_ylabel('RMSE')\n",
    "\n",
    "# Add a legend\n",
    "ax.legend()\n",
    "\n",
    "# Display the plot\n",
    "plt.show()"
   ]
  },
  {
   "cell_type": "markdown",
   "id": "4f6fe19d-1c08-4044-ac32-942ae4d1bea8",
   "metadata": {},
   "source": [
    "# 5-Using My Model to Predict New Data "
   ]
  },
  {
   "cell_type": "code",
   "execution_count": 70,
   "id": "04b7dc59-b703-42a1-8fee-0d9f551ab6a7",
   "metadata": {},
   "outputs": [],
   "source": [
    "import pickle\n",
    "file_name='prediction_price_cars.sav'"
   ]
  },
  {
   "cell_type": "code",
   "execution_count": 71,
   "id": "ef03e17f-cba5-4a41-8823-b8a78783d1b3",
   "metadata": {},
   "outputs": [],
   "source": [
    "pickle.dump(Model2,open(file_name,'wb'))"
   ]
  },
  {
   "cell_type": "code",
   "execution_count": 72,
   "id": "b8495d1c-090d-4be6-bf28-677ca1e035ba",
   "metadata": {},
   "outputs": [
    {
     "data": {
      "text/plain": [
       "array([16, 12, 17, 43, 27, 45, 35, 31,  6, 41,  9,  3, 21, 30, 40, 26, 14,\n",
       "       11, 42, 24, 32,  2,  8, 29, 10, 23, 20,  0, 44, 19, 39,  7, 25,  4,\n",
       "       33, 47, 15,  5, 38, 18, 34, 22, 28, 36, 46,  1, 37, 13])"
      ]
     },
     "execution_count": 72,
     "metadata": {},
     "output_type": "execute_result"
    }
   ],
   "source": [
    "data.Manufacturer.unique()"
   ]
  },
  {
   "cell_type": "code",
   "execution_count": 73,
   "id": "7f34dd20-b126-46cc-8803-612f92909e41",
   "metadata": {},
   "outputs": [
    {
     "data": {
      "text/plain": [
       "array([347, 334, 683, 616, 697, 194, 167, 313, 294, 430, 469, 623,  99,\n",
       "       336, 226, 545, 300, 484, 273, 397, 776,  66, 770, 213, 556, 836,\n",
       "       269, 577, 383, 504,  37, 416, 725, 377, 611,  94, 499,  63, 689,\n",
       "       652, 812, 743, 445,  40, 328,  67, 660, 217,   2, 145, 810, 758,\n",
       "       778, 746, 344, 447, 427, 175, 784, 657, 694, 595, 119, 223, 184,\n",
       "       112, 245, 672, 411, 691, 751, 152,  91, 676, 654, 304, 263, 118,\n",
       "       523, 232, 581, 199, 525, 461,  98, 798, 414, 231, 153, 658, 407,\n",
       "       124, 104, 571, 692, 509, 332, 808,  80, 497,  30, 329, 158, 821,\n",
       "       661, 109, 249, 171, 371, 239, 235,  74, 254, 649, 570, 501, 462,\n",
       "       374, 534, 537, 686,  25, 559, 720, 529, 437, 709, 323, 117, 308,\n",
       "       680,  51, 279, 258, 246, 673,  83, 648,  86, 428, 444, 285, 185,\n",
       "        89, 406, 393, 468, 238, 761, 833, 105, 549, 636, 717,   3, 306,\n",
       "       721, 792, 366, 216, 737, 284, 739, 744,  73, 846, 450, 275, 452,\n",
       "         8, 760, 582, 612, 224, 841,  16, 832, 207, 500, 567, 538, 466,\n",
       "       454, 753, 688, 394, 696,  69, 481, 251,  36, 831, 763, 326, 198,\n",
       "       365, 467, 243, 557, 265,  65, 188, 698, 137, 706, 127, 222, 512,\n",
       "       589, 711, 139, 735, 780, 227, 395, 796, 521, 281, 259, 754, 741,\n",
       "       816, 436, 179, 578, 116, 749, 203, 353, 795, 422,   7, 517, 592,\n",
       "        97, 233,  77, 712, 221, 420, 429, 364, 789, 664, 835, 613, 252,\n",
       "       286, 471, 565, 182, 141, 292, 747, 409,  42, 168,  12,  81, 540,\n",
       "       391, 338, 453, 201, 456, 457, 443, 277, 230, 584,  53, 669,  11,\n",
       "       351, 434, 165, 543, 190, 142,  28, 417, 164, 135, 681,   9,  45,\n",
       "       425, 209, 439, 289, 828, 333, 583, 598, 204, 342,  82,  95, 387,\n",
       "       585, 690, 524, 242, 765, 154, 759, 186, 189, 106, 320, 114, 558,\n",
       "       548, 824, 318, 278, 522, 163, 628, 255, 700, 637, 663, 474, 121,\n",
       "       380,  85, 390,  90,  49, 745, 103, 684, 727, 586, 804,  62, 123,\n",
       "       701, 644, 662, 622, 615, 837,  59, 550, 418,  50, 331, 544, 352,\n",
       "       324, 379, 211, 715, 272, 195, 180, 506, 197,  61, 177, 505, 322,\n",
       "       677, 659,  26,  31, 458, 368, 600, 845, 316, 120, 330, 756, 256,\n",
       "       781, 820, 298, 261, 287,  41, 819, 809,  43,  93, 465, 268, 280,\n",
       "       566, 125, 687,  71, 671, 413, 271, 157, 101, 405,  33, 719, 250,\n",
       "       493,  92, 554, 441, 704, 196, 498, 825, 527, 376, 449, 848, 645,\n",
       "       183, 311, 785, 764, 842, 617, 228, 476, 572,  60, 702, 790, 495,\n",
       "       827, 840, 375, 100, 742, 608, 291,  17, 757, 762, 369, 791, 210,\n",
       "       442, 170, 206, 766, 646, 337, 237, 102, 340, 847, 562, 301, 655,\n",
       "       783, 172, 528,  23, 310, 360, 514, 435, 635, 244, 162, 319,  72,\n",
       "         1, 381, 634, 811, 656, 555, 607, 151, 603, 302, 478,  52, 826,\n",
       "        14, 382, 362, 147, 625, 160, 818, 496, 192,  39, 665, 220, 173,\n",
       "       155, 388, 593, 270, 771, 455, 248, 218, 752, 283, 290,  75, 569,\n",
       "       531,  47, 473, 361,  46, 161, 143, 426,   0, 438, 225, 234, 599,\n",
       "       303, 588, 260, 639, 526, 208, 314, 136, 767, 769, 126, 156, 341,\n",
       "       288, 451, 181, 813, 392, 384, 488, 507,  84, 621, 530,  24, 487,\n",
       "       346, 510, 829, 363, 385, 580, 174, 148, 573, 299, 389, 149, 122,\n",
       "       516, 138, 838,   4, 724, 823, 643, 668, 705, 773, 729, 214, 596,\n",
       "       475, 396, 699, 560, 503, 166, 619, 345, 400, 519,   5, 822, 511,\n",
       "       787, 814, 803, 606, 710, 535, 614, 679, 536, 312,  10, 642, 653,\n",
       "       115,  70, 370, 640, 678, 421,  58, 399, 722, 561, 736, 356, 419,\n",
       "       666, 111, 631, 564, 542, 718, 202, 748, 401, 732, 553, 349, 424,\n",
       "       494, 513, 219, 730,  21,  27,  54, 774, 716, 772, 432, 723, 740,\n",
       "       552, 547, 480, 257, 412, 733, 276, 587, 348, 372, 431, 755, 264,\n",
       "       682,  55, 650,  88, 262, 728,  29, 483, 307, 367, 532, 807, 777,\n",
       "       801, 602, 667, 817, 309, 398, 768, 215, 315, 267, 786,  78, 108,\n",
       "       788,  76, 491, 797, 335,  56, 800, 849, 597, 834, 321,  32, 144,\n",
       "       651, 113,  34, 482, 159,  20, 131, 782, 169, 440, 590,  64, 626,\n",
       "       463, 609, 193, 296, 731, 350, 568, 479, 132, 325, 779, 632, 282,\n",
       "       305,  57, 541, 520, 446, 533,  18, 107,  96, 459, 830, 408, 799,\n",
       "        15, 726, 734, 839,   6,  19, 176, 236, 604, 130, 685, 575, 713,\n",
       "       802, 708, 618, 433,  87, 253, 539, 150, 563, 128, 133,  13, 695,\n",
       "       518, 295, 703, 146, 546, 502, 297, 674, 670, 630, 490, 354, 485,\n",
       "       415, 775, 191,  35, 205,  48, 129, 402, 266, 815, 359, 317, 601,\n",
       "       404, 605, 187, 591, 675, 551, 843, 641, 647, 620, 134, 212, 200,\n",
       "        38, 489, 844, 794, 633, 358, 508, 693, 486, 477, 240, 293, 423,\n",
       "       464, 460, 247, 241, 274, 110, 738, 515, 472, 357, 229, 470, 386,\n",
       "       707, 373, 448, 339,  22, 627, 714, 750,  44, 629,  68, 178, 594,\n",
       "       624, 574, 410, 610, 492,  79, 638, 140, 378, 576, 579, 327, 403,\n",
       "       793, 805, 806, 355, 343])"
      ]
     },
     "execution_count": 73,
     "metadata": {},
     "output_type": "execute_result"
    }
   ],
   "source": [
    "data.Model.unique()"
   ]
  },
  {
   "cell_type": "code",
   "execution_count": 74,
   "id": "e0e8905b-222a-4305-9721-607db1910073",
   "metadata": {},
   "outputs": [
    {
     "name": "stdout",
     "output_type": "stream",
     "text": [
      "<class 'pandas.core.frame.DataFrame'>\n",
      "Index: 12240 entries, 2 to 19236\n",
      "Data columns (total 16 columns):\n",
      " #   Column            Non-Null Count  Dtype  \n",
      "---  ------            --------------  -----  \n",
      " 0   Manufacturer      12240 non-null  int32  \n",
      " 1   Model             12240 non-null  int32  \n",
      " 2   Category          12240 non-null  int32  \n",
      " 3   Leather interior  12240 non-null  int32  \n",
      " 4   Fuel type         12240 non-null  int32  \n",
      " 5   Mileage           12240 non-null  int32  \n",
      " 6   Gear box type     12240 non-null  int32  \n",
      " 7   Drive wheels      12240 non-null  int32  \n",
      " 8   Wheel             12240 non-null  int32  \n",
      " 9   Color             12240 non-null  int32  \n",
      " 10  Price             12240 non-null  int64  \n",
      " 11  Levy              12240 non-null  int32  \n",
      " 12  Engine volume     12240 non-null  float64\n",
      " 13  Cylinders         12240 non-null  float64\n",
      " 14  Airbags           12240 non-null  int64  \n",
      " 15  Age               12240 non-null  int64  \n",
      "dtypes: float64(2), int32(11), int64(3)\n",
      "memory usage: 1.1 MB\n"
     ]
    }
   ],
   "source": [
    "data.info()\n"
   ]
  },
  {
   "cell_type": "code",
   "execution_count": 75,
   "id": "d6f6fd43-12d4-419a-83e9-f8139e60a998",
   "metadata": {},
   "outputs": [
    {
     "data": {
      "text/plain": [
       "array([3, 4, 8, 9, 6, 0, 1, 5, 2, 7])"
      ]
     },
     "execution_count": 75,
     "metadata": {},
     "output_type": "execute_result"
    }
   ],
   "source": [
    "data.Category.unique()\n",
    "\n"
   ]
  },
  {
   "cell_type": "code",
   "execution_count": 76,
   "id": "80e34304-7ef2-4a12-9d4e-6560d4491440",
   "metadata": {},
   "outputs": [
    {
     "data": {
      "text/plain": [
       "array([0, 1])"
      ]
     },
     "execution_count": 76,
     "metadata": {},
     "output_type": "execute_result"
    }
   ],
   "source": [
    "data['Leather interior'].unique()\n"
   ]
  },
  {
   "cell_type": "code",
   "execution_count": 77,
   "id": "03818080-7dbe-40dd-b51f-5cc74f61fa97",
   "metadata": {},
   "outputs": [
    {
     "data": {
      "text/plain": [
       "array([4, 2, 1, 5, 3, 0])"
      ]
     },
     "execution_count": 77,
     "metadata": {},
     "output_type": "execute_result"
    }
   ],
   "source": [
    "data['Fuel type'].unique()\n"
   ]
  },
  {
   "cell_type": "code",
   "execution_count": 78,
   "id": "b036d52f-f4fc-46df-af32-2acc28678091",
   "metadata": {},
   "outputs": [
    {
     "data": {
      "text/plain": [
       "array([2493, 1954, 5679, ..., 1260, 3364, 2291])"
      ]
     },
     "execution_count": 78,
     "metadata": {},
     "output_type": "execute_result"
    }
   ],
   "source": [
    "data.Mileage.unique()\n"
   ]
  },
  {
   "cell_type": "code",
   "execution_count": 79,
   "id": "161a0665-c4a9-4abe-8e6d-97c42f39f108",
   "metadata": {},
   "outputs": [
    {
     "data": {
      "text/plain": [
       "array([3, 0, 2, 1])"
      ]
     },
     "execution_count": 79,
     "metadata": {},
     "output_type": "execute_result"
    }
   ],
   "source": [
    "data['Gear box type'].unique()\n"
   ]
  },
  {
   "cell_type": "code",
   "execution_count": 80,
   "id": "282e0427-9276-4105-8f34-a9a6641eef6d",
   "metadata": {},
   "outputs": [
    {
     "data": {
      "text/plain": [
       "array([1, 0, 2])"
      ]
     },
     "execution_count": 80,
     "metadata": {},
     "output_type": "execute_result"
    }
   ],
   "source": [
    "data['Drive wheels'].unique()\n"
   ]
  },
  {
   "cell_type": "code",
   "execution_count": 81,
   "id": "509c9411-d91f-4bdc-ad08-2febff4f24e7",
   "metadata": {},
   "outputs": [
    {
     "data": {
      "text/plain": [
       "array([1, 0])"
      ]
     },
     "execution_count": 81,
     "metadata": {},
     "output_type": "execute_result"
    }
   ],
   "source": [
    "data.Wheel.unique()\n"
   ]
  },
  {
   "cell_type": "code",
   "execution_count": 82,
   "id": "5b131311-173e-44d8-a78e-e4a5288452f3",
   "metadata": {},
   "outputs": [
    {
     "data": {
      "text/plain": [
       "array([2493, 1954, 5679, ..., 1260, 3364, 2291])"
      ]
     },
     "execution_count": 82,
     "metadata": {},
     "output_type": "execute_result"
    }
   ],
   "source": [
    "data.Mileage.unique()\n"
   ]
  },
  {
   "cell_type": "code",
   "execution_count": 83,
   "id": "6035cbdf-101e-4def-87e3-c22ab8d407cb",
   "metadata": {},
   "outputs": [
    {
     "data": {
      "text/plain": [
       "array([ 1, 14, 12,  7,  2, 13, 11,  8,  6, 15,  3,  5,  0,  4, 10,  9])"
      ]
     },
     "execution_count": 83,
     "metadata": {},
     "output_type": "execute_result"
    }
   ],
   "source": [
    "data.Color.unique()\n"
   ]
  },
  {
   "cell_type": "code",
   "execution_count": 84,
   "id": "6b0fa495-702f-407c-8fb1-81b20cd130af",
   "metadata": {},
   "outputs": [
    {
     "data": {
      "text/plain": [
       "array([   0,  862,  446,  891,  761,  751,  394, 1079,  810,  531,  586,\n",
       "       1249,  583,  707, 1486, 1091,  650,  382,  503, 1017,  629,  781,\n",
       "        530,  640,  765,  777,  779,  934,  769,  645, 1185,  830,  639,\n",
       "       1111,  760,  642, 1095,  966,  473,  988,  687,  836, 1347,  259,\n",
       "        609,  697,  585,  475,  690,  308, 1361, 1077,  584,  831, 1172,\n",
       "        893, 1266,  447,  730,  502,  333, 1325,  247,  738,  481, 1282,\n",
       "       1055,  456,  880,  900,  798, 1277,  442, 1051,  790, 1047,  528,\n",
       "        574,  271, 1481, 1661, 1408, 1090,  595, 1267,  878,  641,  749,\n",
       "        353,  877, 1236, 1141,  397,  784, 1024, 1357,  922, 1438,  753,\n",
       "        638,  490,  431,  565,  833,  489,  986, 1620,  474, 1099,  978,\n",
       "        915, 1268,  924,  770,  649,  551,  607,  993,  800,  971, 1273,\n",
       "       1323, 1845,  694,  463,  419,  345, 1505, 2056,  729,  460,  876,\n",
       "        911,  780,  448, 1148,  834, 1275, 1327,  724,  890,  696, 1705,\n",
       "        505,  789,  518, 1288, 1103,  557,  843,  723,  562,  501, 1202,\n",
       "        691,  418, 1820, 1413,  488,  363, 2108,  521, 1286, 1411, 1528,\n",
       "        919,  627,  706,  400,  889, 1677,  949,  441,  742,  614, 1816,\n",
       "       1324, 1062,  420,  658, 1995, 1187, 1032,  994,  494,  426,  961,\n",
       "       1537, 1829,  764, 1054,  617,  626, 1832, 1016,  746, 1285, 1118,\n",
       "        980, 1228, 1195, 1132,  702, 1974,  944,  663,  364, 1345, 2209,\n",
       "        741, 1211,  695, 1317,  294,  424, 1515, 1552, 1156, 2188,  799,\n",
       "       1502,  552, 1759, 1296,  399, 1292,  526,  686, 1107, 1468, 1246,\n",
       "       1076,  556, 1917, 1346,  732,  692,  579,  421,  362, 1855, 1586,\n",
       "       1356,  681, 1708, 1701,  928,  827,  832,  527, 1341, 1624, 1053,\n",
       "        828, 1516, 1018, 1058, 1503, 1437, 1279, 1110,  279,  666,  748,\n",
       "        644,  683, 1436,  917,  879, 1518, 1588, 1030, 1094,  402, 1399,\n",
       "        874, 1109,  873, 1163, 1991, 1011, 1673,  930, 1834,  965,  462,\n",
       "        605, 2054, 1272,  750,  524, 1659,  676,  612,  328, 1104, 1426,\n",
       "       1675, 1750,  623,  822,  867, 1031, 1036, 1993,  792,  636,  637,\n",
       "       1662, 2123,  870, 1836, 1198, 1039, 1590,  875, 1493])"
      ]
     },
     "execution_count": 84,
     "metadata": {},
     "output_type": "execute_result"
    }
   ],
   "source": [
    "data.Levy.unique()\n"
   ]
  },
  {
   "cell_type": "code",
   "execution_count": 85,
   "id": "9f268268-7022-4b92-bf54-5158e9309f3c",
   "metadata": {},
   "outputs": [
    {
     "data": {
      "text/plain": [
       "array([1.3, 2.5, 2. , 1.8, 2.4, 1.6, 2.2, 1.5, 1.4, 2.3, 1.2, 1.7, 2.9,\n",
       "       1.9, 2.7, 3.5, 2.1, 1. , 0.8, 3. , 3.3, 2.8, 3.2, 1.1])"
      ]
     },
     "execution_count": 85,
     "metadata": {},
     "output_type": "execute_result"
    }
   ],
   "source": [
    "data['Engine volume'].unique()\n"
   ]
  },
  {
   "cell_type": "code",
   "execution_count": 86,
   "id": "8fba0d46-af37-4b89-9c5d-385f63ad2f2b",
   "metadata": {},
   "outputs": [
    {
     "data": {
      "text/plain": [
       "array([4.])"
      ]
     },
     "execution_count": 86,
     "metadata": {},
     "output_type": "execute_result"
    }
   ],
   "source": [
    "data.Cylinders.unique()\n"
   ]
  },
  {
   "cell_type": "code",
   "execution_count": 87,
   "id": "5552ce2d-1311-481d-b0ae-466db3a74802",
   "metadata": {},
   "outputs": [
    {
     "data": {
      "text/plain": [
       "array([ 2,  0,  4, 12,  8, 10,  6,  1, 16,  7,  9,  5, 11,  3, 14, 15, 13],\n",
       "      dtype=int64)"
      ]
     },
     "execution_count": 87,
     "metadata": {},
     "output_type": "execute_result"
    }
   ],
   "source": [
    "data.Airbags.unique()\n"
   ]
  },
  {
   "cell_type": "code",
   "execution_count": 88,
   "id": "497436d5-0554-412a-a399-f199d5a295ec",
   "metadata": {},
   "outputs": [
    {
     "data": {
      "text/plain": [
       "array([18, 13, 10,  8, 14, 11,  6, 12,  7, 16,  9, 17, 20, 15,  5, 19, 21,\n",
       "        4], dtype=int64)"
      ]
     },
     "execution_count": 88,
     "metadata": {},
     "output_type": "execute_result"
    }
   ],
   "source": [
    "data.Age.unique()"
   ]
  },
  {
   "cell_type": "code",
   "execution_count": null,
   "id": "d3d503b0-4631-47bb-8dde-31b4f09e7004",
   "metadata": {},
   "outputs": [],
   "source": []
  }
 ],
 "metadata": {
  "kernelspec": {
   "display_name": "Python 3 (ipykernel)",
   "language": "python",
   "name": "python3"
  },
  "language_info": {
   "codemirror_mode": {
    "name": "ipython",
    "version": 3
   },
   "file_extension": ".py",
   "mimetype": "text/x-python",
   "name": "python",
   "nbconvert_exporter": "python",
   "pygments_lexer": "ipython3",
   "version": "3.12.2"
  }
 },
 "nbformat": 4,
 "nbformat_minor": 5
}
